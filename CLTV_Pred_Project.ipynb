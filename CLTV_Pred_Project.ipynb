{
  "nbformat": 4,
  "nbformat_minor": 0,
  "metadata": {
    "colab": {
      "name": "CLTV_Prediction.ipynb",
      "provenance": [],
      "collapsed_sections": []
    },
    "kernelspec": {
      "name": "python3",
      "display_name": "Python 3"
    }
  },
  "cells": [
    {
      "cell_type": "code",
      "metadata": {
        "colab": {
          "base_uri": "https://localhost:8080/"
        },
        "id": "ADaFX6Bi0BhY",
        "outputId": "0fc5d352-5d12-4cc1-c495-7073cb919f71"
      },
      "source": [
        "from google.colab import drive\r\n",
        "drive.mount('/content/gdrive')"
      ],
      "execution_count": 109,
      "outputs": [
        {
          "output_type": "stream",
          "text": [
            "Drive already mounted at /content/gdrive; to attempt to forcibly remount, call drive.mount(\"/content/gdrive\", force_remount=True).\n"
          ],
          "name": "stdout"
        }
      ]
    },
    {
      "cell_type": "code",
      "metadata": {
        "colab": {
          "base_uri": "https://localhost:8080/"
        },
        "id": "wfGzKB8R0U3N",
        "outputId": "a36dc18d-3ced-4cfa-83fc-ef53df9a21cc"
      },
      "source": [
        "%cd /content/gdrive/My Drive/datasets"
      ],
      "execution_count": 110,
      "outputs": [
        {
          "output_type": "stream",
          "text": [
            "/content/gdrive/My Drive/datasets\n"
          ],
          "name": "stdout"
        }
      ]
    },
    {
      "cell_type": "code",
      "metadata": {
        "colab": {
          "base_uri": "https://localhost:8080/"
        },
        "id": "xDLcNePb0iV6",
        "outputId": "304f1151-0613-47f6-be9e-c83b4b775ba9"
      },
      "source": [
        "pip install lifetimes"
      ],
      "execution_count": 111,
      "outputs": [
        {
          "output_type": "stream",
          "text": [
            "Requirement already satisfied: lifetimes in /usr/local/lib/python3.6/dist-packages (0.11.3)\n",
            "Requirement already satisfied: scipy>=1.0.0 in /usr/local/lib/python3.6/dist-packages (from lifetimes) (1.4.1)\n",
            "Requirement already satisfied: numpy>=1.10.0 in /usr/local/lib/python3.6/dist-packages (from lifetimes) (1.19.5)\n",
            "Requirement already satisfied: autograd>=1.2.0 in /usr/local/lib/python3.6/dist-packages (from lifetimes) (1.3)\n",
            "Requirement already satisfied: pandas>=0.24.0 in /usr/local/lib/python3.6/dist-packages (from lifetimes) (1.1.5)\n",
            "Requirement already satisfied: dill>=0.2.6 in /usr/local/lib/python3.6/dist-packages (from lifetimes) (0.3.3)\n",
            "Requirement already satisfied: future>=0.15.2 in /usr/local/lib/python3.6/dist-packages (from autograd>=1.2.0->lifetimes) (0.16.0)\n",
            "Requirement already satisfied: pytz>=2017.2 in /usr/local/lib/python3.6/dist-packages (from pandas>=0.24.0->lifetimes) (2018.9)\n",
            "Requirement already satisfied: python-dateutil>=2.7.3 in /usr/local/lib/python3.6/dist-packages (from pandas>=0.24.0->lifetimes) (2.8.1)\n",
            "Requirement already satisfied: six>=1.5 in /usr/local/lib/python3.6/dist-packages (from python-dateutil>=2.7.3->pandas>=0.24.0->lifetimes) (1.15.0)\n"
          ],
          "name": "stdout"
        }
      ]
    },
    {
      "cell_type": "code",
      "metadata": {
        "id": "RMi6EePM0hPj"
      },
      "source": [
        "import pandas as pd\r\n",
        "import numpy as np\r\n",
        "import datetime as dt\r\n",
        "import seaborn as sns\r\n",
        "import matplotlib.pyplot as plt\r\n",
        "import matplotlib\r\n",
        "\r\n",
        "from lifetimes import BetaGeoFitter\r\n",
        "from lifetimes import GammaGammaFitter\r\n",
        "from lifetimes.plotting import plot_period_transactions"
      ],
      "execution_count": 112,
      "outputs": []
    },
    {
      "cell_type": "code",
      "metadata": {
        "id": "KTIyYvpf0nG9"
      },
      "source": [
        "df_ = pd.read_excel(\"online_retail_II.xlsx\",\r\n",
        "                    sheet_name=\"Year 2010-2011\")"
      ],
      "execution_count": 113,
      "outputs": []
    },
    {
      "cell_type": "code",
      "metadata": {
        "id": "XDamLAB4mh5Q"
      },
      "source": [
        "df = df_.copy()"
      ],
      "execution_count": 114,
      "outputs": []
    },
    {
      "cell_type": "code",
      "metadata": {
        "colab": {
          "base_uri": "https://localhost:8080/",
          "height": 359
        },
        "id": "sgsaXKtW1SaE",
        "outputId": "1c88c5b8-8c7b-4748-bc66-176e1865a425"
      },
      "source": [
        "df.head(10)"
      ],
      "execution_count": 115,
      "outputs": [
        {
          "output_type": "execute_result",
          "data": {
            "text/html": [
              "<div>\n",
              "<style scoped>\n",
              "    .dataframe tbody tr th:only-of-type {\n",
              "        vertical-align: middle;\n",
              "    }\n",
              "\n",
              "    .dataframe tbody tr th {\n",
              "        vertical-align: top;\n",
              "    }\n",
              "\n",
              "    .dataframe thead th {\n",
              "        text-align: right;\n",
              "    }\n",
              "</style>\n",
              "<table border=\"1\" class=\"dataframe\">\n",
              "  <thead>\n",
              "    <tr style=\"text-align: right;\">\n",
              "      <th></th>\n",
              "      <th>Invoice</th>\n",
              "      <th>StockCode</th>\n",
              "      <th>Description</th>\n",
              "      <th>Quantity</th>\n",
              "      <th>InvoiceDate</th>\n",
              "      <th>Price</th>\n",
              "      <th>Customer ID</th>\n",
              "      <th>Country</th>\n",
              "    </tr>\n",
              "  </thead>\n",
              "  <tbody>\n",
              "    <tr>\n",
              "      <th>0</th>\n",
              "      <td>536365</td>\n",
              "      <td>85123A</td>\n",
              "      <td>WHITE HANGING HEART T-LIGHT HOLDER</td>\n",
              "      <td>6</td>\n",
              "      <td>2010-12-01 08:26:00</td>\n",
              "      <td>2.55</td>\n",
              "      <td>17850.0</td>\n",
              "      <td>United Kingdom</td>\n",
              "    </tr>\n",
              "    <tr>\n",
              "      <th>1</th>\n",
              "      <td>536365</td>\n",
              "      <td>71053</td>\n",
              "      <td>WHITE METAL LANTERN</td>\n",
              "      <td>6</td>\n",
              "      <td>2010-12-01 08:26:00</td>\n",
              "      <td>3.39</td>\n",
              "      <td>17850.0</td>\n",
              "      <td>United Kingdom</td>\n",
              "    </tr>\n",
              "    <tr>\n",
              "      <th>2</th>\n",
              "      <td>536365</td>\n",
              "      <td>84406B</td>\n",
              "      <td>CREAM CUPID HEARTS COAT HANGER</td>\n",
              "      <td>8</td>\n",
              "      <td>2010-12-01 08:26:00</td>\n",
              "      <td>2.75</td>\n",
              "      <td>17850.0</td>\n",
              "      <td>United Kingdom</td>\n",
              "    </tr>\n",
              "    <tr>\n",
              "      <th>3</th>\n",
              "      <td>536365</td>\n",
              "      <td>84029G</td>\n",
              "      <td>KNITTED UNION FLAG HOT WATER BOTTLE</td>\n",
              "      <td>6</td>\n",
              "      <td>2010-12-01 08:26:00</td>\n",
              "      <td>3.39</td>\n",
              "      <td>17850.0</td>\n",
              "      <td>United Kingdom</td>\n",
              "    </tr>\n",
              "    <tr>\n",
              "      <th>4</th>\n",
              "      <td>536365</td>\n",
              "      <td>84029E</td>\n",
              "      <td>RED WOOLLY HOTTIE WHITE HEART.</td>\n",
              "      <td>6</td>\n",
              "      <td>2010-12-01 08:26:00</td>\n",
              "      <td>3.39</td>\n",
              "      <td>17850.0</td>\n",
              "      <td>United Kingdom</td>\n",
              "    </tr>\n",
              "    <tr>\n",
              "      <th>5</th>\n",
              "      <td>536365</td>\n",
              "      <td>22752</td>\n",
              "      <td>SET 7 BABUSHKA NESTING BOXES</td>\n",
              "      <td>2</td>\n",
              "      <td>2010-12-01 08:26:00</td>\n",
              "      <td>7.65</td>\n",
              "      <td>17850.0</td>\n",
              "      <td>United Kingdom</td>\n",
              "    </tr>\n",
              "    <tr>\n",
              "      <th>6</th>\n",
              "      <td>536365</td>\n",
              "      <td>21730</td>\n",
              "      <td>GLASS STAR FROSTED T-LIGHT HOLDER</td>\n",
              "      <td>6</td>\n",
              "      <td>2010-12-01 08:26:00</td>\n",
              "      <td>4.25</td>\n",
              "      <td>17850.0</td>\n",
              "      <td>United Kingdom</td>\n",
              "    </tr>\n",
              "    <tr>\n",
              "      <th>7</th>\n",
              "      <td>536366</td>\n",
              "      <td>22633</td>\n",
              "      <td>HAND WARMER UNION JACK</td>\n",
              "      <td>6</td>\n",
              "      <td>2010-12-01 08:28:00</td>\n",
              "      <td>1.85</td>\n",
              "      <td>17850.0</td>\n",
              "      <td>United Kingdom</td>\n",
              "    </tr>\n",
              "    <tr>\n",
              "      <th>8</th>\n",
              "      <td>536366</td>\n",
              "      <td>22632</td>\n",
              "      <td>HAND WARMER RED POLKA DOT</td>\n",
              "      <td>6</td>\n",
              "      <td>2010-12-01 08:28:00</td>\n",
              "      <td>1.85</td>\n",
              "      <td>17850.0</td>\n",
              "      <td>United Kingdom</td>\n",
              "    </tr>\n",
              "    <tr>\n",
              "      <th>9</th>\n",
              "      <td>536368</td>\n",
              "      <td>22960</td>\n",
              "      <td>JAM MAKING SET WITH JARS</td>\n",
              "      <td>6</td>\n",
              "      <td>2010-12-01 08:34:00</td>\n",
              "      <td>4.25</td>\n",
              "      <td>13047.0</td>\n",
              "      <td>United Kingdom</td>\n",
              "    </tr>\n",
              "  </tbody>\n",
              "</table>\n",
              "</div>"
            ],
            "text/plain": [
              "  Invoice StockCode  ... Customer ID         Country\n",
              "0  536365    85123A  ...     17850.0  United Kingdom\n",
              "1  536365     71053  ...     17850.0  United Kingdom\n",
              "2  536365    84406B  ...     17850.0  United Kingdom\n",
              "3  536365    84029G  ...     17850.0  United Kingdom\n",
              "4  536365    84029E  ...     17850.0  United Kingdom\n",
              "5  536365     22752  ...     17850.0  United Kingdom\n",
              "6  536365     21730  ...     17850.0  United Kingdom\n",
              "7  536366     22633  ...     17850.0  United Kingdom\n",
              "8  536366     22632  ...     17850.0  United Kingdom\n",
              "9  536368     22960  ...     13047.0  United Kingdom\n",
              "\n",
              "[10 rows x 8 columns]"
            ]
          },
          "metadata": {
            "tags": []
          },
          "execution_count": 115
        }
      ]
    },
    {
      "cell_type": "code",
      "metadata": {
        "id": "3xPw9rrtDy39"
      },
      "source": [
        "uk_df = df[df['Country'] == 'United Kingdom']"
      ],
      "execution_count": 116,
      "outputs": []
    },
    {
      "cell_type": "markdown",
      "metadata": {
        "id": "zj6orS8UDpnc"
      },
      "source": [
        "##**Veri hazırlama**"
      ]
    },
    {
      "cell_type": "code",
      "metadata": {
        "id": "boyVL7fhj1Zj"
      },
      "source": [
        "uk_df.dropna(inplace=True)"
      ],
      "execution_count": 117,
      "outputs": []
    },
    {
      "cell_type": "code",
      "metadata": {
        "id": "94xAmvmg5dg4"
      },
      "source": [
        "uk_df = uk_df[~uk_df[\"Invoice\"].str.contains(\"C\", na=False)] # cancel edilmis siparisler cikarildi\r\n"
      ],
      "execution_count": 118,
      "outputs": []
    },
    {
      "cell_type": "code",
      "metadata": {
        "id": "6ktJm0tRlOod"
      },
      "source": [
        "uk_df = uk_df[(uk_df['Quantity'] > 0)]"
      ],
      "execution_count": 119,
      "outputs": []
    },
    {
      "cell_type": "code",
      "metadata": {
        "colab": {
          "base_uri": "https://localhost:8080/",
          "height": 142
        },
        "id": "Zwzl5AqYqg3_",
        "outputId": "d0f71152-1fc3-4594-cb37-37e032e3d9c8"
      },
      "source": [
        "uk_df.describe().T"
      ],
      "execution_count": 120,
      "outputs": [
        {
          "output_type": "execute_result",
          "data": {
            "text/html": [
              "<div>\n",
              "<style scoped>\n",
              "    .dataframe tbody tr th:only-of-type {\n",
              "        vertical-align: middle;\n",
              "    }\n",
              "\n",
              "    .dataframe tbody tr th {\n",
              "        vertical-align: top;\n",
              "    }\n",
              "\n",
              "    .dataframe thead th {\n",
              "        text-align: right;\n",
              "    }\n",
              "</style>\n",
              "<table border=\"1\" class=\"dataframe\">\n",
              "  <thead>\n",
              "    <tr style=\"text-align: right;\">\n",
              "      <th></th>\n",
              "      <th>count</th>\n",
              "      <th>mean</th>\n",
              "      <th>std</th>\n",
              "      <th>min</th>\n",
              "      <th>25%</th>\n",
              "      <th>50%</th>\n",
              "      <th>75%</th>\n",
              "      <th>max</th>\n",
              "    </tr>\n",
              "  </thead>\n",
              "  <tbody>\n",
              "    <tr>\n",
              "      <th>Quantity</th>\n",
              "      <td>354345.0</td>\n",
              "      <td>12.048913</td>\n",
              "      <td>190.428127</td>\n",
              "      <td>1.0</td>\n",
              "      <td>2.00</td>\n",
              "      <td>4.00</td>\n",
              "      <td>12.00</td>\n",
              "      <td>80995.00</td>\n",
              "    </tr>\n",
              "    <tr>\n",
              "      <th>Price</th>\n",
              "      <td>354345.0</td>\n",
              "      <td>2.963793</td>\n",
              "      <td>17.862067</td>\n",
              "      <td>0.0</td>\n",
              "      <td>1.25</td>\n",
              "      <td>1.95</td>\n",
              "      <td>3.75</td>\n",
              "      <td>8142.75</td>\n",
              "    </tr>\n",
              "    <tr>\n",
              "      <th>Customer ID</th>\n",
              "      <td>354345.0</td>\n",
              "      <td>15552.436219</td>\n",
              "      <td>1594.546025</td>\n",
              "      <td>12346.0</td>\n",
              "      <td>14194.00</td>\n",
              "      <td>15522.00</td>\n",
              "      <td>16931.00</td>\n",
              "      <td>18287.00</td>\n",
              "    </tr>\n",
              "  </tbody>\n",
              "</table>\n",
              "</div>"
            ],
            "text/plain": [
              "                count          mean          std  ...       50%       75%       max\n",
              "Quantity     354345.0     12.048913   190.428127  ...      4.00     12.00  80995.00\n",
              "Price        354345.0      2.963793    17.862067  ...      1.95      3.75   8142.75\n",
              "Customer ID  354345.0  15552.436219  1594.546025  ...  15522.00  16931.00  18287.00\n",
              "\n",
              "[3 rows x 8 columns]"
            ]
          },
          "metadata": {
            "tags": []
          },
          "execution_count": 120
        }
      ]
    },
    {
      "cell_type": "code",
      "metadata": {
        "id": "MNulFV2als5t"
      },
      "source": [
        "def outlier_thresholds(dataframe, variable):\r\n",
        "    quartile1 = dataframe[variable].quantile(0.01)\r\n",
        "    quartile3 = dataframe[variable].quantile(0.99)\r\n",
        "    interquantile_range = quartile3 - quartile1\r\n",
        "    up_limit = quartile3 + 1.5 * interquantile_range\r\n",
        "    low_limit = quartile1 - 1.5 * interquantile_range\r\n",
        "    return low_limit, up_limit\r\n",
        "\r\n",
        "\r\n",
        "def replace_with_thresholds(dataframe, variable):\r\n",
        "    low_limit, up_limit = outlier_thresholds(dataframe, variable)\r\n",
        "    # dataframe.loc[(dataframe[variable] < low_limit), variable] = low_limit\r\n",
        "    dataframe.loc[(dataframe[variable] > up_limit), variable] = up_limit"
      ],
      "execution_count": 121,
      "outputs": []
    },
    {
      "cell_type": "code",
      "metadata": {
        "id": "L7ph8oDQqk4x"
      },
      "source": [
        "replace_with_thresholds(uk_df, \"Quantity\")  # outlierları çıkardık \r\n",
        "replace_with_thresholds(uk_df, \"Price\")"
      ],
      "execution_count": 122,
      "outputs": []
    },
    {
      "cell_type": "code",
      "metadata": {
        "colab": {
          "base_uri": "https://localhost:8080/",
          "height": 142
        },
        "id": "o8gHdEQaqqSR",
        "outputId": "ae601d11-26b0-4262-a0e3-bca94394f7ce"
      },
      "source": [
        "uk_df.describe().T"
      ],
      "execution_count": 123,
      "outputs": [
        {
          "output_type": "execute_result",
          "data": {
            "text/html": [
              "<div>\n",
              "<style scoped>\n",
              "    .dataframe tbody tr th:only-of-type {\n",
              "        vertical-align: middle;\n",
              "    }\n",
              "\n",
              "    .dataframe tbody tr th {\n",
              "        vertical-align: top;\n",
              "    }\n",
              "\n",
              "    .dataframe thead th {\n",
              "        text-align: right;\n",
              "    }\n",
              "</style>\n",
              "<table border=\"1\" class=\"dataframe\">\n",
              "  <thead>\n",
              "    <tr style=\"text-align: right;\">\n",
              "      <th></th>\n",
              "      <th>count</th>\n",
              "      <th>mean</th>\n",
              "      <th>std</th>\n",
              "      <th>min</th>\n",
              "      <th>25%</th>\n",
              "      <th>50%</th>\n",
              "      <th>75%</th>\n",
              "      <th>max</th>\n",
              "    </tr>\n",
              "  </thead>\n",
              "  <tbody>\n",
              "    <tr>\n",
              "      <th>Quantity</th>\n",
              "      <td>354345.0</td>\n",
              "      <td>10.676869</td>\n",
              "      <td>22.075531</td>\n",
              "      <td>1.0</td>\n",
              "      <td>2.00</td>\n",
              "      <td>4.00</td>\n",
              "      <td>12.00</td>\n",
              "      <td>248.50</td>\n",
              "    </tr>\n",
              "    <tr>\n",
              "      <th>Price</th>\n",
              "      <td>354345.0</td>\n",
              "      <td>2.815039</td>\n",
              "      <td>2.920551</td>\n",
              "      <td>0.0</td>\n",
              "      <td>1.25</td>\n",
              "      <td>1.95</td>\n",
              "      <td>3.75</td>\n",
              "      <td>31.56</td>\n",
              "    </tr>\n",
              "    <tr>\n",
              "      <th>Customer ID</th>\n",
              "      <td>354345.0</td>\n",
              "      <td>15552.436219</td>\n",
              "      <td>1594.546025</td>\n",
              "      <td>12346.0</td>\n",
              "      <td>14194.00</td>\n",
              "      <td>15522.00</td>\n",
              "      <td>16931.00</td>\n",
              "      <td>18287.00</td>\n",
              "    </tr>\n",
              "  </tbody>\n",
              "</table>\n",
              "</div>"
            ],
            "text/plain": [
              "                count          mean          std  ...       50%       75%       max\n",
              "Quantity     354345.0     10.676869    22.075531  ...      4.00     12.00    248.50\n",
              "Price        354345.0      2.815039     2.920551  ...      1.95      3.75     31.56\n",
              "Customer ID  354345.0  15552.436219  1594.546025  ...  15522.00  16931.00  18287.00\n",
              "\n",
              "[3 rows x 8 columns]"
            ]
          },
          "metadata": {
            "tags": []
          },
          "execution_count": 123
        }
      ]
    },
    {
      "cell_type": "code",
      "metadata": {
        "id": "Mvmxjy9ilhbL"
      },
      "source": [
        "uk_df[\"TotalPrice\"] = uk_df[\"Quantity\"] * uk_df[\"Price\"]"
      ],
      "execution_count": 124,
      "outputs": []
    },
    {
      "cell_type": "code",
      "metadata": {
        "colab": {
          "base_uri": "https://localhost:8080/"
        },
        "id": "EPTAaceqmT9v",
        "outputId": "26656022-5fc9-4079-da5c-0ce20d665f7f"
      },
      "source": [
        "uk_df[\"InvoiceDate\"].max()"
      ],
      "execution_count": 125,
      "outputs": [
        {
          "output_type": "execute_result",
          "data": {
            "text/plain": [
              "Timestamp('2011-12-09 12:49:00')"
            ]
          },
          "metadata": {
            "tags": []
          },
          "execution_count": 125
        }
      ]
    },
    {
      "cell_type": "code",
      "metadata": {
        "id": "8I_5VpsUmMy1"
      },
      "source": [
        "today_date = dt.datetime(2011, 12, 11) # +2 gün eklendi yeni uyelerde hata almamak icin "
      ],
      "execution_count": 126,
      "outputs": []
    },
    {
      "cell_type": "markdown",
      "metadata": {
        "id": "aNJZju5Ym3gv"
      },
      "source": [
        "## RFM tablosu"
      ]
    },
    {
      "cell_type": "code",
      "metadata": {
        "id": "rrW8G7-crR5w"
      },
      "source": [
        "rfm = uk_df.groupby('Customer ID').agg({'InvoiceDate': [lambda date: (date.max() - date.min()).days, # recency \r\n",
        "                                                     lambda date: (today_date - date.min()).days], # tenur\r\n",
        "                                     'Invoice': lambda num: num.nunique(),\r\n",
        "                                     'TotalPrice': lambda TotalPrice: TotalPrice.sum()})\r\n"
      ],
      "execution_count": 127,
      "outputs": []
    },
    {
      "cell_type": "code",
      "metadata": {
        "colab": {
          "base_uri": "https://localhost:8080/",
          "height": 481
        },
        "id": "ZkSpeDnIrP3n",
        "outputId": "409e1973-f638-4d1c-bdd7-857be9dcf3e1"
      },
      "source": [
        "rfm"
      ],
      "execution_count": 128,
      "outputs": [
        {
          "output_type": "execute_result",
          "data": {
            "text/html": [
              "<div>\n",
              "<style scoped>\n",
              "    .dataframe tbody tr th:only-of-type {\n",
              "        vertical-align: middle;\n",
              "    }\n",
              "\n",
              "    .dataframe tbody tr th {\n",
              "        vertical-align: top;\n",
              "    }\n",
              "\n",
              "    .dataframe thead tr th {\n",
              "        text-align: left;\n",
              "    }\n",
              "\n",
              "    .dataframe thead tr:last-of-type th {\n",
              "        text-align: right;\n",
              "    }\n",
              "</style>\n",
              "<table border=\"1\" class=\"dataframe\">\n",
              "  <thead>\n",
              "    <tr>\n",
              "      <th></th>\n",
              "      <th colspan=\"2\" halign=\"left\">InvoiceDate</th>\n",
              "      <th>Invoice</th>\n",
              "      <th>TotalPrice</th>\n",
              "    </tr>\n",
              "    <tr>\n",
              "      <th></th>\n",
              "      <th>&lt;lambda_0&gt;</th>\n",
              "      <th>&lt;lambda_1&gt;</th>\n",
              "      <th>&lt;lambda&gt;</th>\n",
              "      <th>&lt;lambda&gt;</th>\n",
              "    </tr>\n",
              "    <tr>\n",
              "      <th>Customer ID</th>\n",
              "      <th></th>\n",
              "      <th></th>\n",
              "      <th></th>\n",
              "      <th></th>\n",
              "    </tr>\n",
              "  </thead>\n",
              "  <tbody>\n",
              "    <tr>\n",
              "      <th>12346.0</th>\n",
              "      <td>0</td>\n",
              "      <td>326</td>\n",
              "      <td>1</td>\n",
              "      <td>258.44</td>\n",
              "    </tr>\n",
              "    <tr>\n",
              "      <th>12747.0</th>\n",
              "      <td>366</td>\n",
              "      <td>370</td>\n",
              "      <td>11</td>\n",
              "      <td>4196.01</td>\n",
              "    </tr>\n",
              "    <tr>\n",
              "      <th>12748.0</th>\n",
              "      <td>372</td>\n",
              "      <td>374</td>\n",
              "      <td>210</td>\n",
              "      <td>32303.91</td>\n",
              "    </tr>\n",
              "    <tr>\n",
              "      <th>12749.0</th>\n",
              "      <td>209</td>\n",
              "      <td>214</td>\n",
              "      <td>5</td>\n",
              "      <td>4072.44</td>\n",
              "    </tr>\n",
              "    <tr>\n",
              "      <th>12820.0</th>\n",
              "      <td>323</td>\n",
              "      <td>327</td>\n",
              "      <td>4</td>\n",
              "      <td>942.34</td>\n",
              "    </tr>\n",
              "    <tr>\n",
              "      <th>...</th>\n",
              "      <td>...</td>\n",
              "      <td>...</td>\n",
              "      <td>...</td>\n",
              "      <td>...</td>\n",
              "    </tr>\n",
              "    <tr>\n",
              "      <th>18280.0</th>\n",
              "      <td>0</td>\n",
              "      <td>278</td>\n",
              "      <td>1</td>\n",
              "      <td>180.60</td>\n",
              "    </tr>\n",
              "    <tr>\n",
              "      <th>18281.0</th>\n",
              "      <td>0</td>\n",
              "      <td>181</td>\n",
              "      <td>1</td>\n",
              "      <td>80.82</td>\n",
              "    </tr>\n",
              "    <tr>\n",
              "      <th>18282.0</th>\n",
              "      <td>118</td>\n",
              "      <td>127</td>\n",
              "      <td>2</td>\n",
              "      <td>178.05</td>\n",
              "    </tr>\n",
              "    <tr>\n",
              "      <th>18283.0</th>\n",
              "      <td>333</td>\n",
              "      <td>338</td>\n",
              "      <td>16</td>\n",
              "      <td>2094.88</td>\n",
              "    </tr>\n",
              "    <tr>\n",
              "      <th>18287.0</th>\n",
              "      <td>158</td>\n",
              "      <td>202</td>\n",
              "      <td>3</td>\n",
              "      <td>1837.28</td>\n",
              "    </tr>\n",
              "  </tbody>\n",
              "</table>\n",
              "<p>3921 rows × 4 columns</p>\n",
              "</div>"
            ],
            "text/plain": [
              "            InvoiceDate             Invoice TotalPrice\n",
              "             <lambda_0> <lambda_1> <lambda>   <lambda>\n",
              "Customer ID                                           \n",
              "12346.0               0        326        1     258.44\n",
              "12747.0             366        370       11    4196.01\n",
              "12748.0             372        374      210   32303.91\n",
              "12749.0             209        214        5    4072.44\n",
              "12820.0             323        327        4     942.34\n",
              "...                 ...        ...      ...        ...\n",
              "18280.0               0        278        1     180.60\n",
              "18281.0               0        181        1      80.82\n",
              "18282.0             118        127        2     178.05\n",
              "18283.0             333        338       16    2094.88\n",
              "18287.0             158        202        3    1837.28\n",
              "\n",
              "[3921 rows x 4 columns]"
            ]
          },
          "metadata": {
            "tags": []
          },
          "execution_count": 128
        }
      ]
    },
    {
      "cell_type": "code",
      "metadata": {
        "id": "giasYskQrS2x"
      },
      "source": [
        "rfm.columns = rfm.columns.droplevel(0)"
      ],
      "execution_count": 129,
      "outputs": []
    },
    {
      "cell_type": "code",
      "metadata": {
        "id": "aHDPWmWCrbgn"
      },
      "source": [
        "## recency_cltv_p\r\n",
        "rfm.columns = ['recency_cltv_p', 'T', 'frequency', 'monetary']"
      ],
      "execution_count": 130,
      "outputs": []
    },
    {
      "cell_type": "code",
      "metadata": {
        "id": "lmhsH1mnrnus"
      },
      "source": [
        "# gamma gamma için ortalama monetary_avg\r\n",
        "# her bir müşteri her bir faturada ortalama ne kadar harcamış olduğu\r\n",
        "rfm[\"monetary\"] = rfm[\"monetary\"] / rfm[\"frequency\"]"
      ],
      "execution_count": 131,
      "outputs": []
    },
    {
      "cell_type": "code",
      "metadata": {
        "id": "CU2fGCCFDlA5"
      },
      "source": [
        "rfm.rename(columns={\"monetary\": \"monetary_avg\"},inplace=True)"
      ],
      "execution_count": 132,
      "outputs": []
    },
    {
      "cell_type": "code",
      "metadata": {
        "colab": {
          "base_uri": "https://localhost:8080/",
          "height": 450
        },
        "id": "JPbfsVW8rZHt",
        "outputId": "2a0bd8f5-e979-4ba9-e74c-2edb6505d74a"
      },
      "source": [
        "rfm"
      ],
      "execution_count": 133,
      "outputs": [
        {
          "output_type": "execute_result",
          "data": {
            "text/html": [
              "<div>\n",
              "<style scoped>\n",
              "    .dataframe tbody tr th:only-of-type {\n",
              "        vertical-align: middle;\n",
              "    }\n",
              "\n",
              "    .dataframe tbody tr th {\n",
              "        vertical-align: top;\n",
              "    }\n",
              "\n",
              "    .dataframe thead th {\n",
              "        text-align: right;\n",
              "    }\n",
              "</style>\n",
              "<table border=\"1\" class=\"dataframe\">\n",
              "  <thead>\n",
              "    <tr style=\"text-align: right;\">\n",
              "      <th></th>\n",
              "      <th>recency_cltv_p</th>\n",
              "      <th>T</th>\n",
              "      <th>frequency</th>\n",
              "      <th>monetary_avg</th>\n",
              "    </tr>\n",
              "    <tr>\n",
              "      <th>Customer ID</th>\n",
              "      <th></th>\n",
              "      <th></th>\n",
              "      <th></th>\n",
              "      <th></th>\n",
              "    </tr>\n",
              "  </thead>\n",
              "  <tbody>\n",
              "    <tr>\n",
              "      <th>12346.0</th>\n",
              "      <td>0</td>\n",
              "      <td>326</td>\n",
              "      <td>1</td>\n",
              "      <td>258.440000</td>\n",
              "    </tr>\n",
              "    <tr>\n",
              "      <th>12747.0</th>\n",
              "      <td>366</td>\n",
              "      <td>370</td>\n",
              "      <td>11</td>\n",
              "      <td>381.455455</td>\n",
              "    </tr>\n",
              "    <tr>\n",
              "      <th>12748.0</th>\n",
              "      <td>372</td>\n",
              "      <td>374</td>\n",
              "      <td>210</td>\n",
              "      <td>153.828143</td>\n",
              "    </tr>\n",
              "    <tr>\n",
              "      <th>12749.0</th>\n",
              "      <td>209</td>\n",
              "      <td>214</td>\n",
              "      <td>5</td>\n",
              "      <td>814.488000</td>\n",
              "    </tr>\n",
              "    <tr>\n",
              "      <th>12820.0</th>\n",
              "      <td>323</td>\n",
              "      <td>327</td>\n",
              "      <td>4</td>\n",
              "      <td>235.585000</td>\n",
              "    </tr>\n",
              "    <tr>\n",
              "      <th>...</th>\n",
              "      <td>...</td>\n",
              "      <td>...</td>\n",
              "      <td>...</td>\n",
              "      <td>...</td>\n",
              "    </tr>\n",
              "    <tr>\n",
              "      <th>18280.0</th>\n",
              "      <td>0</td>\n",
              "      <td>278</td>\n",
              "      <td>1</td>\n",
              "      <td>180.600000</td>\n",
              "    </tr>\n",
              "    <tr>\n",
              "      <th>18281.0</th>\n",
              "      <td>0</td>\n",
              "      <td>181</td>\n",
              "      <td>1</td>\n",
              "      <td>80.820000</td>\n",
              "    </tr>\n",
              "    <tr>\n",
              "      <th>18282.0</th>\n",
              "      <td>118</td>\n",
              "      <td>127</td>\n",
              "      <td>2</td>\n",
              "      <td>89.025000</td>\n",
              "    </tr>\n",
              "    <tr>\n",
              "      <th>18283.0</th>\n",
              "      <td>333</td>\n",
              "      <td>338</td>\n",
              "      <td>16</td>\n",
              "      <td>130.930000</td>\n",
              "    </tr>\n",
              "    <tr>\n",
              "      <th>18287.0</th>\n",
              "      <td>158</td>\n",
              "      <td>202</td>\n",
              "      <td>3</td>\n",
              "      <td>612.426667</td>\n",
              "    </tr>\n",
              "  </tbody>\n",
              "</table>\n",
              "<p>3921 rows × 4 columns</p>\n",
              "</div>"
            ],
            "text/plain": [
              "             recency_cltv_p    T  frequency  monetary_avg\n",
              "Customer ID                                              \n",
              "12346.0                   0  326          1    258.440000\n",
              "12747.0                 366  370         11    381.455455\n",
              "12748.0                 372  374        210    153.828143\n",
              "12749.0                 209  214          5    814.488000\n",
              "12820.0                 323  327          4    235.585000\n",
              "...                     ...  ...        ...           ...\n",
              "18280.0                   0  278          1    180.600000\n",
              "18281.0                   0  181          1     80.820000\n",
              "18282.0                 118  127          2     89.025000\n",
              "18283.0                 333  338         16    130.930000\n",
              "18287.0                 158  202          3    612.426667\n",
              "\n",
              "[3921 rows x 4 columns]"
            ]
          },
          "metadata": {
            "tags": []
          },
          "execution_count": 133
        }
      ]
    },
    {
      "cell_type": "code",
      "metadata": {
        "id": "JX5cFb8bIseg"
      },
      "source": [
        "# BGNBD için WEEKLY RECENCY VE WEEKLY T'nin HESAPLANMASI\r\n",
        "## recency_weekly_p\r\n",
        "rfm[\"recency_weekly_p\"] = rfm[\"recency_cltv_p\"] / 7\r\n",
        "rfm[\"T_weekly\"] = rfm[\"T\"] / 7"
      ],
      "execution_count": 134,
      "outputs": []
    },
    {
      "cell_type": "code",
      "metadata": {
        "id": "DEphTTkcI1Us"
      },
      "source": [
        "rfm = rfm[rfm[\"monetary_avg\"] > 0]"
      ],
      "execution_count": 135,
      "outputs": []
    },
    {
      "cell_type": "code",
      "metadata": {
        "id": "AIhfIaFXI4qb"
      },
      "source": [
        "\r\n",
        "## freq > 1\r\n",
        "rfm = rfm[(rfm['frequency'] > 1)]\r\n",
        "rfm[\"frequency\"] = rfm[\"frequency\"].astype(int)"
      ],
      "execution_count": 136,
      "outputs": []
    },
    {
      "cell_type": "code",
      "metadata": {
        "colab": {
          "base_uri": "https://localhost:8080/",
          "height": 450
        },
        "id": "Hp3LMqYdI7Gk",
        "outputId": "9d7e0891-83ab-4ff1-cece-a933f8ba5cc6"
      },
      "source": [
        "rfm"
      ],
      "execution_count": 137,
      "outputs": [
        {
          "output_type": "execute_result",
          "data": {
            "text/html": [
              "<div>\n",
              "<style scoped>\n",
              "    .dataframe tbody tr th:only-of-type {\n",
              "        vertical-align: middle;\n",
              "    }\n",
              "\n",
              "    .dataframe tbody tr th {\n",
              "        vertical-align: top;\n",
              "    }\n",
              "\n",
              "    .dataframe thead th {\n",
              "        text-align: right;\n",
              "    }\n",
              "</style>\n",
              "<table border=\"1\" class=\"dataframe\">\n",
              "  <thead>\n",
              "    <tr style=\"text-align: right;\">\n",
              "      <th></th>\n",
              "      <th>recency_cltv_p</th>\n",
              "      <th>T</th>\n",
              "      <th>frequency</th>\n",
              "      <th>monetary_avg</th>\n",
              "      <th>recency_weekly_p</th>\n",
              "      <th>T_weekly</th>\n",
              "    </tr>\n",
              "    <tr>\n",
              "      <th>Customer ID</th>\n",
              "      <th></th>\n",
              "      <th></th>\n",
              "      <th></th>\n",
              "      <th></th>\n",
              "      <th></th>\n",
              "      <th></th>\n",
              "    </tr>\n",
              "  </thead>\n",
              "  <tbody>\n",
              "    <tr>\n",
              "      <th>12747.0</th>\n",
              "      <td>366</td>\n",
              "      <td>370</td>\n",
              "      <td>11</td>\n",
              "      <td>381.455455</td>\n",
              "      <td>52.285714</td>\n",
              "      <td>52.857143</td>\n",
              "    </tr>\n",
              "    <tr>\n",
              "      <th>12748.0</th>\n",
              "      <td>372</td>\n",
              "      <td>374</td>\n",
              "      <td>210</td>\n",
              "      <td>153.828143</td>\n",
              "      <td>53.142857</td>\n",
              "      <td>53.428571</td>\n",
              "    </tr>\n",
              "    <tr>\n",
              "      <th>12749.0</th>\n",
              "      <td>209</td>\n",
              "      <td>214</td>\n",
              "      <td>5</td>\n",
              "      <td>814.488000</td>\n",
              "      <td>29.857143</td>\n",
              "      <td>30.571429</td>\n",
              "    </tr>\n",
              "    <tr>\n",
              "      <th>12820.0</th>\n",
              "      <td>323</td>\n",
              "      <td>327</td>\n",
              "      <td>4</td>\n",
              "      <td>235.585000</td>\n",
              "      <td>46.142857</td>\n",
              "      <td>46.714286</td>\n",
              "    </tr>\n",
              "    <tr>\n",
              "      <th>12822.0</th>\n",
              "      <td>16</td>\n",
              "      <td>88</td>\n",
              "      <td>2</td>\n",
              "      <td>474.440000</td>\n",
              "      <td>2.285714</td>\n",
              "      <td>12.571429</td>\n",
              "    </tr>\n",
              "    <tr>\n",
              "      <th>...</th>\n",
              "      <td>...</td>\n",
              "      <td>...</td>\n",
              "      <td>...</td>\n",
              "      <td>...</td>\n",
              "      <td>...</td>\n",
              "      <td>...</td>\n",
              "    </tr>\n",
              "    <tr>\n",
              "      <th>18272.0</th>\n",
              "      <td>244</td>\n",
              "      <td>247</td>\n",
              "      <td>6</td>\n",
              "      <td>513.096667</td>\n",
              "      <td>34.857143</td>\n",
              "      <td>35.285714</td>\n",
              "    </tr>\n",
              "    <tr>\n",
              "      <th>18273.0</th>\n",
              "      <td>255</td>\n",
              "      <td>258</td>\n",
              "      <td>3</td>\n",
              "      <td>68.000000</td>\n",
              "      <td>36.428571</td>\n",
              "      <td>36.857143</td>\n",
              "    </tr>\n",
              "    <tr>\n",
              "      <th>18282.0</th>\n",
              "      <td>118</td>\n",
              "      <td>127</td>\n",
              "      <td>2</td>\n",
              "      <td>89.025000</td>\n",
              "      <td>16.857143</td>\n",
              "      <td>18.142857</td>\n",
              "    </tr>\n",
              "    <tr>\n",
              "      <th>18283.0</th>\n",
              "      <td>333</td>\n",
              "      <td>338</td>\n",
              "      <td>16</td>\n",
              "      <td>130.930000</td>\n",
              "      <td>47.571429</td>\n",
              "      <td>48.285714</td>\n",
              "    </tr>\n",
              "    <tr>\n",
              "      <th>18287.0</th>\n",
              "      <td>158</td>\n",
              "      <td>202</td>\n",
              "      <td>3</td>\n",
              "      <td>612.426667</td>\n",
              "      <td>22.571429</td>\n",
              "      <td>28.857143</td>\n",
              "    </tr>\n",
              "  </tbody>\n",
              "</table>\n",
              "<p>2570 rows × 6 columns</p>\n",
              "</div>"
            ],
            "text/plain": [
              "             recency_cltv_p    T  ...  recency_weekly_p   T_weekly\n",
              "Customer ID                       ...                             \n",
              "12747.0                 366  370  ...         52.285714  52.857143\n",
              "12748.0                 372  374  ...         53.142857  53.428571\n",
              "12749.0                 209  214  ...         29.857143  30.571429\n",
              "12820.0                 323  327  ...         46.142857  46.714286\n",
              "12822.0                  16   88  ...          2.285714  12.571429\n",
              "...                     ...  ...  ...               ...        ...\n",
              "18272.0                 244  247  ...         34.857143  35.285714\n",
              "18273.0                 255  258  ...         36.428571  36.857143\n",
              "18282.0                 118  127  ...         16.857143  18.142857\n",
              "18283.0                 333  338  ...         47.571429  48.285714\n",
              "18287.0                 158  202  ...         22.571429  28.857143\n",
              "\n",
              "[2570 rows x 6 columns]"
            ]
          },
          "metadata": {
            "tags": []
          },
          "execution_count": 137
        }
      ]
    },
    {
      "cell_type": "code",
      "metadata": {
        "id": "8orabeecI-vk"
      },
      "source": [
        "rfm_cltv = rfm.copy()"
      ],
      "execution_count": 138,
      "outputs": []
    },
    {
      "cell_type": "code",
      "metadata": {
        "colab": {
          "base_uri": "https://localhost:8080/",
          "height": 450
        },
        "id": "er0U7ctuGQUK",
        "outputId": "0dcd080f-e6e4-4cbb-94eb-c59ba26b8ecf"
      },
      "source": [
        "rfm_cltv"
      ],
      "execution_count": 139,
      "outputs": [
        {
          "output_type": "execute_result",
          "data": {
            "text/html": [
              "<div>\n",
              "<style scoped>\n",
              "    .dataframe tbody tr th:only-of-type {\n",
              "        vertical-align: middle;\n",
              "    }\n",
              "\n",
              "    .dataframe tbody tr th {\n",
              "        vertical-align: top;\n",
              "    }\n",
              "\n",
              "    .dataframe thead th {\n",
              "        text-align: right;\n",
              "    }\n",
              "</style>\n",
              "<table border=\"1\" class=\"dataframe\">\n",
              "  <thead>\n",
              "    <tr style=\"text-align: right;\">\n",
              "      <th></th>\n",
              "      <th>recency_cltv_p</th>\n",
              "      <th>T</th>\n",
              "      <th>frequency</th>\n",
              "      <th>monetary_avg</th>\n",
              "      <th>recency_weekly_p</th>\n",
              "      <th>T_weekly</th>\n",
              "    </tr>\n",
              "    <tr>\n",
              "      <th>Customer ID</th>\n",
              "      <th></th>\n",
              "      <th></th>\n",
              "      <th></th>\n",
              "      <th></th>\n",
              "      <th></th>\n",
              "      <th></th>\n",
              "    </tr>\n",
              "  </thead>\n",
              "  <tbody>\n",
              "    <tr>\n",
              "      <th>12747.0</th>\n",
              "      <td>366</td>\n",
              "      <td>370</td>\n",
              "      <td>11</td>\n",
              "      <td>381.455455</td>\n",
              "      <td>52.285714</td>\n",
              "      <td>52.857143</td>\n",
              "    </tr>\n",
              "    <tr>\n",
              "      <th>12748.0</th>\n",
              "      <td>372</td>\n",
              "      <td>374</td>\n",
              "      <td>210</td>\n",
              "      <td>153.828143</td>\n",
              "      <td>53.142857</td>\n",
              "      <td>53.428571</td>\n",
              "    </tr>\n",
              "    <tr>\n",
              "      <th>12749.0</th>\n",
              "      <td>209</td>\n",
              "      <td>214</td>\n",
              "      <td>5</td>\n",
              "      <td>814.488000</td>\n",
              "      <td>29.857143</td>\n",
              "      <td>30.571429</td>\n",
              "    </tr>\n",
              "    <tr>\n",
              "      <th>12820.0</th>\n",
              "      <td>323</td>\n",
              "      <td>327</td>\n",
              "      <td>4</td>\n",
              "      <td>235.585000</td>\n",
              "      <td>46.142857</td>\n",
              "      <td>46.714286</td>\n",
              "    </tr>\n",
              "    <tr>\n",
              "      <th>12822.0</th>\n",
              "      <td>16</td>\n",
              "      <td>88</td>\n",
              "      <td>2</td>\n",
              "      <td>474.440000</td>\n",
              "      <td>2.285714</td>\n",
              "      <td>12.571429</td>\n",
              "    </tr>\n",
              "    <tr>\n",
              "      <th>...</th>\n",
              "      <td>...</td>\n",
              "      <td>...</td>\n",
              "      <td>...</td>\n",
              "      <td>...</td>\n",
              "      <td>...</td>\n",
              "      <td>...</td>\n",
              "    </tr>\n",
              "    <tr>\n",
              "      <th>18272.0</th>\n",
              "      <td>244</td>\n",
              "      <td>247</td>\n",
              "      <td>6</td>\n",
              "      <td>513.096667</td>\n",
              "      <td>34.857143</td>\n",
              "      <td>35.285714</td>\n",
              "    </tr>\n",
              "    <tr>\n",
              "      <th>18273.0</th>\n",
              "      <td>255</td>\n",
              "      <td>258</td>\n",
              "      <td>3</td>\n",
              "      <td>68.000000</td>\n",
              "      <td>36.428571</td>\n",
              "      <td>36.857143</td>\n",
              "    </tr>\n",
              "    <tr>\n",
              "      <th>18282.0</th>\n",
              "      <td>118</td>\n",
              "      <td>127</td>\n",
              "      <td>2</td>\n",
              "      <td>89.025000</td>\n",
              "      <td>16.857143</td>\n",
              "      <td>18.142857</td>\n",
              "    </tr>\n",
              "    <tr>\n",
              "      <th>18283.0</th>\n",
              "      <td>333</td>\n",
              "      <td>338</td>\n",
              "      <td>16</td>\n",
              "      <td>130.930000</td>\n",
              "      <td>47.571429</td>\n",
              "      <td>48.285714</td>\n",
              "    </tr>\n",
              "    <tr>\n",
              "      <th>18287.0</th>\n",
              "      <td>158</td>\n",
              "      <td>202</td>\n",
              "      <td>3</td>\n",
              "      <td>612.426667</td>\n",
              "      <td>22.571429</td>\n",
              "      <td>28.857143</td>\n",
              "    </tr>\n",
              "  </tbody>\n",
              "</table>\n",
              "<p>2570 rows × 6 columns</p>\n",
              "</div>"
            ],
            "text/plain": [
              "             recency_cltv_p    T  ...  recency_weekly_p   T_weekly\n",
              "Customer ID                       ...                             \n",
              "12747.0                 366  370  ...         52.285714  52.857143\n",
              "12748.0                 372  374  ...         53.142857  53.428571\n",
              "12749.0                 209  214  ...         29.857143  30.571429\n",
              "12820.0                 323  327  ...         46.142857  46.714286\n",
              "12822.0                  16   88  ...          2.285714  12.571429\n",
              "...                     ...  ...  ...               ...        ...\n",
              "18272.0                 244  247  ...         34.857143  35.285714\n",
              "18273.0                 255  258  ...         36.428571  36.857143\n",
              "18282.0                 118  127  ...         16.857143  18.142857\n",
              "18283.0                 333  338  ...         47.571429  48.285714\n",
              "18287.0                 158  202  ...         22.571429  28.857143\n",
              "\n",
              "[2570 rows x 6 columns]"
            ]
          },
          "metadata": {
            "tags": []
          },
          "execution_count": 139
        }
      ]
    },
    {
      "cell_type": "code",
      "metadata": {
        "colab": {
          "base_uri": "https://localhost:8080/"
        },
        "id": "zuyox6P8GriO",
        "outputId": "46a3b099-5de1-484a-80fb-e9ffe709a261"
      },
      "source": [
        "\r\n",
        "bgf = BetaGeoFitter(penalizer_coef=0.001)\r\n",
        "\r\n",
        "bgf.fit(rfm['frequency'],\r\n",
        "        rfm['recency_weekly_p'],\r\n",
        "        rfm['T_weekly'])"
      ],
      "execution_count": 140,
      "outputs": [
        {
          "output_type": "execute_result",
          "data": {
            "text/plain": [
              "<lifetimes.BetaGeoFitter: fitted with 2570 subjects, a: 0.12, alpha: 11.66, b: 2.51, r: 2.21>"
            ]
          },
          "metadata": {
            "tags": []
          },
          "execution_count": 140
        }
      ]
    },
    {
      "cell_type": "code",
      "metadata": {
        "id": "SSwEIIAKMXAM",
        "colab": {
          "base_uri": "https://localhost:8080/"
        },
        "outputId": "b4a26e25-7a73-42cc-99f2-43f9692fd5ec"
      },
      "source": [
        "bgf.conditional_expected_number_of_purchases_up_to_time(1,\r\n",
        "                                                        rfm['frequency'],\r\n",
        "                                                        rfm['recency_weekly_p'],\r\n",
        "                                                        rfm['T_weekly']).sort_values(ascending=False).head(10)\r\n"
      ],
      "execution_count": 141,
      "outputs": [
        {
          "output_type": "execute_result",
          "data": {
            "text/plain": [
              "Customer ID\n",
              "12748.0    3.252952\n",
              "17841.0    1.933252\n",
              "13089.0    1.532019\n",
              "14606.0    1.458797\n",
              "15311.0    1.428625\n",
              "12971.0    1.352266\n",
              "13408.0    0.982914\n",
              "18102.0    0.965291\n",
              "13798.0    0.908239\n",
              "14527.0    0.882959\n",
              "dtype: float64"
            ]
          },
          "metadata": {
            "tags": []
          },
          "execution_count": 141
        }
      ]
    },
    {
      "cell_type": "code",
      "metadata": {
        "id": "vtbCqcObMWzg",
        "colab": {
          "base_uri": "https://localhost:8080/",
          "height": 235
        },
        "outputId": "2ae21a5c-66d4-482f-fe39-8f29d12d6e69"
      },
      "source": [
        "rfm[\"expected_number_of_purchases\"] = bgf.predict(1,\r\n",
        "                                                  rfm['frequency'],\r\n",
        "                                                  rfm['recency_weekly_p'],\r\n",
        "                                                  rfm['T_weekly'])\r\n",
        "\r\n",
        "rfm.head()"
      ],
      "execution_count": 142,
      "outputs": [
        {
          "output_type": "execute_result",
          "data": {
            "text/html": [
              "<div>\n",
              "<style scoped>\n",
              "    .dataframe tbody tr th:only-of-type {\n",
              "        vertical-align: middle;\n",
              "    }\n",
              "\n",
              "    .dataframe tbody tr th {\n",
              "        vertical-align: top;\n",
              "    }\n",
              "\n",
              "    .dataframe thead th {\n",
              "        text-align: right;\n",
              "    }\n",
              "</style>\n",
              "<table border=\"1\" class=\"dataframe\">\n",
              "  <thead>\n",
              "    <tr style=\"text-align: right;\">\n",
              "      <th></th>\n",
              "      <th>recency_cltv_p</th>\n",
              "      <th>T</th>\n",
              "      <th>frequency</th>\n",
              "      <th>monetary_avg</th>\n",
              "      <th>recency_weekly_p</th>\n",
              "      <th>T_weekly</th>\n",
              "      <th>expected_number_of_purchases</th>\n",
              "    </tr>\n",
              "    <tr>\n",
              "      <th>Customer ID</th>\n",
              "      <th></th>\n",
              "      <th></th>\n",
              "      <th></th>\n",
              "      <th></th>\n",
              "      <th></th>\n",
              "      <th></th>\n",
              "      <th></th>\n",
              "    </tr>\n",
              "  </thead>\n",
              "  <tbody>\n",
              "    <tr>\n",
              "      <th>12747.0</th>\n",
              "      <td>366</td>\n",
              "      <td>370</td>\n",
              "      <td>11</td>\n",
              "      <td>381.455455</td>\n",
              "      <td>52.285714</td>\n",
              "      <td>52.857143</td>\n",
              "      <td>0.202479</td>\n",
              "    </tr>\n",
              "    <tr>\n",
              "      <th>12748.0</th>\n",
              "      <td>372</td>\n",
              "      <td>374</td>\n",
              "      <td>210</td>\n",
              "      <td>153.828143</td>\n",
              "      <td>53.142857</td>\n",
              "      <td>53.428571</td>\n",
              "      <td>3.252952</td>\n",
              "    </tr>\n",
              "    <tr>\n",
              "      <th>12749.0</th>\n",
              "      <td>209</td>\n",
              "      <td>214</td>\n",
              "      <td>5</td>\n",
              "      <td>814.488000</td>\n",
              "      <td>29.857143</td>\n",
              "      <td>30.571429</td>\n",
              "      <td>0.167149</td>\n",
              "    </tr>\n",
              "    <tr>\n",
              "      <th>12820.0</th>\n",
              "      <td>323</td>\n",
              "      <td>327</td>\n",
              "      <td>4</td>\n",
              "      <td>235.585000</td>\n",
              "      <td>46.142857</td>\n",
              "      <td>46.714286</td>\n",
              "      <td>0.103972</td>\n",
              "    </tr>\n",
              "    <tr>\n",
              "      <th>12822.0</th>\n",
              "      <td>16</td>\n",
              "      <td>88</td>\n",
              "      <td>2</td>\n",
              "      <td>474.440000</td>\n",
              "      <td>2.285714</td>\n",
              "      <td>12.571429</td>\n",
              "      <td>0.129141</td>\n",
              "    </tr>\n",
              "  </tbody>\n",
              "</table>\n",
              "</div>"
            ],
            "text/plain": [
              "             recency_cltv_p    T  ...   T_weekly  expected_number_of_purchases\n",
              "Customer ID                       ...                                         \n",
              "12747.0                 366  370  ...  52.857143                      0.202479\n",
              "12748.0                 372  374  ...  53.428571                      3.252952\n",
              "12749.0                 209  214  ...  30.571429                      0.167149\n",
              "12820.0                 323  327  ...  46.714286                      0.103972\n",
              "12822.0                  16   88  ...  12.571429                      0.129141\n",
              "\n",
              "[5 rows x 7 columns]"
            ]
          },
          "metadata": {
            "tags": []
          },
          "execution_count": 142
        }
      ]
    },
    {
      "cell_type": "code",
      "metadata": {
        "id": "uc81lxkUMWt3",
        "colab": {
          "base_uri": "https://localhost:8080/",
          "height": 301
        },
        "outputId": "cf7c9db9-5a82-407c-c12a-51d87022df7e"
      },
      "source": [
        "################################################################\r\n",
        "# 1 Ay içinde tüm Şirketin Beklenen Satış Sayısı Nedir?\r\n",
        "################################################################\r\n",
        "\r\n",
        "bgf.predict(4,\r\n",
        "            rfm['frequency'],\r\n",
        "            rfm['recency_weekly_p'],\r\n",
        "            rfm['T_weekly']).sum()\r\n",
        "\r\n",
        "################################################################\r\n",
        "# 3 Ayda Tüm Şirketin Beklenen Satış Sayısı Nedir?\r\n",
        "################################################################\r\n",
        "\r\n",
        "\r\n",
        "bgf.predict(4 * 3,\r\n",
        "            rfm['frequency'],\r\n",
        "            rfm['recency_weekly_p'],\r\n",
        "            rfm['T_weekly']).sum()\r\n",
        "\r\n",
        "################################################################\r\n",
        "# Tahmin Sonuçlarının Değerlendirilmesi\r\n",
        "################################################################\r\n",
        "\r\n",
        "plot_period_transactions(bgf)\r\n",
        "plt.show()"
      ],
      "execution_count": 143,
      "outputs": [
        {
          "output_type": "display_data",
          "data": {
            "image/png": "[encoded data removed]",
            "text/plain": [
              "<Figure size 432x288 with 1 Axes>"
            ]
          },
          "metadata": {
            "tags": [],
            "needs_background": "light"
          }
        }
      ]
    },
    {
      "cell_type": "code",
      "metadata": {
        "colab": {
          "base_uri": "https://localhost:8080/",
          "height": 545
        },
        "id": "iFxuaIZtjSI0",
        "outputId": "36b7a58b-fe1a-4fe1-c907-bdce9117aa25"
      },
      "source": [
        "\r\n",
        "##############################################################\r\n",
        "# 3. GAMMA-GAMMA Modelinin Kurulması\r\n",
        "##############################################################\r\n",
        "\r\n",
        "\r\n",
        "ggf = GammaGammaFitter(penalizer_coef=0.01)\r\n",
        "\r\n",
        "ggf.fit(rfm['frequency'], rfm['monetary_avg'])\r\n",
        "\r\n",
        "ggf.conditional_expected_average_profit(rfm['frequency'],\r\n",
        "                                        rfm['monetary_avg']).head(10)\r\n",
        "\r\n",
        "ggf.conditional_expected_average_profit(rfm['frequency'],\r\n",
        "                                        rfm['monetary_avg']).sort_values(ascending=False).head(10)\r\n",
        "\r\n",
        "rfm[\"expected_average_profit\"] = ggf.conditional_expected_average_profit(rfm['frequency'],\r\n",
        "                                                                         rfm['monetary_avg'])\r\n",
        "\r\n",
        "rfm.sort_values(\"expected_average_profit\", ascending=False).head(15)"
      ],
      "execution_count": 144,
      "outputs": [
        {
          "output_type": "execute_result",
          "data": {
            "text/html": [
              "<div>\n",
              "<style scoped>\n",
              "    .dataframe tbody tr th:only-of-type {\n",
              "        vertical-align: middle;\n",
              "    }\n",
              "\n",
              "    .dataframe tbody tr th {\n",
              "        vertical-align: top;\n",
              "    }\n",
              "\n",
              "    .dataframe thead th {\n",
              "        text-align: right;\n",
              "    }\n",
              "</style>\n",
              "<table border=\"1\" class=\"dataframe\">\n",
              "  <thead>\n",
              "    <tr style=\"text-align: right;\">\n",
              "      <th></th>\n",
              "      <th>recency_cltv_p</th>\n",
              "      <th>T</th>\n",
              "      <th>frequency</th>\n",
              "      <th>monetary_avg</th>\n",
              "      <th>recency_weekly_p</th>\n",
              "      <th>T_weekly</th>\n",
              "      <th>expected_number_of_purchases</th>\n",
              "      <th>expected_average_profit</th>\n",
              "    </tr>\n",
              "    <tr>\n",
              "      <th>Customer ID</th>\n",
              "      <th></th>\n",
              "      <th></th>\n",
              "      <th></th>\n",
              "      <th></th>\n",
              "      <th></th>\n",
              "      <th></th>\n",
              "      <th></th>\n",
              "      <th></th>\n",
              "    </tr>\n",
              "  </thead>\n",
              "  <tbody>\n",
              "    <tr>\n",
              "      <th>14088.0</th>\n",
              "      <td>312</td>\n",
              "      <td>323</td>\n",
              "      <td>13</td>\n",
              "      <td>3859.601538</td>\n",
              "      <td>44.571429</td>\n",
              "      <td>46.142857</td>\n",
              "      <td>0.259732</td>\n",
              "      <td>3911.318850</td>\n",
              "    </tr>\n",
              "    <tr>\n",
              "      <th>18102.0</th>\n",
              "      <td>366</td>\n",
              "      <td>368</td>\n",
              "      <td>60</td>\n",
              "      <td>3584.887750</td>\n",
              "      <td>52.285714</td>\n",
              "      <td>52.571429</td>\n",
              "      <td>0.965291</td>\n",
              "      <td>3595.192557</td>\n",
              "    </tr>\n",
              "    <tr>\n",
              "      <th>14096.0</th>\n",
              "      <td>97</td>\n",
              "      <td>102</td>\n",
              "      <td>17</td>\n",
              "      <td>3159.077059</td>\n",
              "      <td>13.857143</td>\n",
              "      <td>14.571429</td>\n",
              "      <td>0.723053</td>\n",
              "      <td>3191.386734</td>\n",
              "    </tr>\n",
              "    <tr>\n",
              "      <th>17511.0</th>\n",
              "      <td>370</td>\n",
              "      <td>374</td>\n",
              "      <td>31</td>\n",
              "      <td>2921.951935</td>\n",
              "      <td>52.857143</td>\n",
              "      <td>53.428571</td>\n",
              "      <td>0.507374</td>\n",
              "      <td>2938.274487</td>\n",
              "    </tr>\n",
              "    <tr>\n",
              "      <th>15749.0</th>\n",
              "      <td>97</td>\n",
              "      <td>333</td>\n",
              "      <td>3</td>\n",
              "      <td>2521.446667</td>\n",
              "      <td>13.857143</td>\n",
              "      <td>47.571429</td>\n",
              "      <td>0.028381</td>\n",
              "      <td>2675.118999</td>\n",
              "    </tr>\n",
              "    <tr>\n",
              "      <th>17450.0</th>\n",
              "      <td>359</td>\n",
              "      <td>368</td>\n",
              "      <td>46</td>\n",
              "      <td>2629.529891</td>\n",
              "      <td>51.285714</td>\n",
              "      <td>52.571429</td>\n",
              "      <td>0.745075</td>\n",
              "      <td>2639.419342</td>\n",
              "    </tr>\n",
              "    <tr>\n",
              "      <th>13081.0</th>\n",
              "      <td>359</td>\n",
              "      <td>372</td>\n",
              "      <td>11</td>\n",
              "      <td>2575.622727</td>\n",
              "      <td>51.285714</td>\n",
              "      <td>53.142857</td>\n",
              "      <td>0.200947</td>\n",
              "      <td>2616.624391</td>\n",
              "    </tr>\n",
              "    <tr>\n",
              "      <th>16984.0</th>\n",
              "      <td>41</td>\n",
              "      <td>131</td>\n",
              "      <td>2</td>\n",
              "      <td>2240.675000</td>\n",
              "      <td>5.857143</td>\n",
              "      <td>18.714286</td>\n",
              "      <td>0.103307</td>\n",
              "      <td>2452.124911</td>\n",
              "    </tr>\n",
              "    <tr>\n",
              "      <th>16000.0</th>\n",
              "      <td>0</td>\n",
              "      <td>3</td>\n",
              "      <td>3</td>\n",
              "      <td>2055.786667</td>\n",
              "      <td>0.000000</td>\n",
              "      <td>0.428571</td>\n",
              "      <td>0.416012</td>\n",
              "      <td>2181.323596</td>\n",
              "    </tr>\n",
              "    <tr>\n",
              "      <th>16684.0</th>\n",
              "      <td>353</td>\n",
              "      <td>359</td>\n",
              "      <td>28</td>\n",
              "      <td>2120.046964</td>\n",
              "      <td>50.428571</td>\n",
              "      <td>51.285714</td>\n",
              "      <td>0.476683</td>\n",
              "      <td>2133.203588</td>\n",
              "    </tr>\n",
              "    <tr>\n",
              "      <th>16253.0</th>\n",
              "      <td>188</td>\n",
              "      <td>256</td>\n",
              "      <td>2</td>\n",
              "      <td>1841.930000</td>\n",
              "      <td>26.857143</td>\n",
              "      <td>36.571429</td>\n",
              "      <td>0.080312</td>\n",
              "      <td>2016.115598</td>\n",
              "    </tr>\n",
              "    <tr>\n",
              "      <th>16240.0</th>\n",
              "      <td>53</td>\n",
              "      <td>78</td>\n",
              "      <td>2</td>\n",
              "      <td>1745.960000</td>\n",
              "      <td>7.571429</td>\n",
              "      <td>11.142857</td>\n",
              "      <td>0.172437</td>\n",
              "      <td>1911.176818</td>\n",
              "    </tr>\n",
              "    <tr>\n",
              "      <th>16303.0</th>\n",
              "      <td>307</td>\n",
              "      <td>334</td>\n",
              "      <td>3</td>\n",
              "      <td>1786.876667</td>\n",
              "      <td>43.857143</td>\n",
              "      <td>47.714286</td>\n",
              "      <td>0.084586</td>\n",
              "      <td>1896.165923</td>\n",
              "    </tr>\n",
              "    <tr>\n",
              "      <th>17107.0</th>\n",
              "      <td>244</td>\n",
              "      <td>279</td>\n",
              "      <td>6</td>\n",
              "      <td>1802.571667</td>\n",
              "      <td>34.857143</td>\n",
              "      <td>39.857143</td>\n",
              "      <td>0.153688</td>\n",
              "      <td>1856.074123</td>\n",
              "    </tr>\n",
              "    <tr>\n",
              "      <th>14680.0</th>\n",
              "      <td>346</td>\n",
              "      <td>372</td>\n",
              "      <td>16</td>\n",
              "      <td>1791.370313</td>\n",
              "      <td>49.428571</td>\n",
              "      <td>53.142857</td>\n",
              "      <td>0.275399</td>\n",
              "      <td>1810.951675</td>\n",
              "    </tr>\n",
              "  </tbody>\n",
              "</table>\n",
              "</div>"
            ],
            "text/plain": [
              "             recency_cltv_p  ...  expected_average_profit\n",
              "Customer ID                  ...                         \n",
              "14088.0                 312  ...              3911.318850\n",
              "18102.0                 366  ...              3595.192557\n",
              "14096.0                  97  ...              3191.386734\n",
              "17511.0                 370  ...              2938.274487\n",
              "15749.0                  97  ...              2675.118999\n",
              "17450.0                 359  ...              2639.419342\n",
              "13081.0                 359  ...              2616.624391\n",
              "16984.0                  41  ...              2452.124911\n",
              "16000.0                   0  ...              2181.323596\n",
              "16684.0                 353  ...              2133.203588\n",
              "16253.0                 188  ...              2016.115598\n",
              "16240.0                  53  ...              1911.176818\n",
              "16303.0                 307  ...              1896.165923\n",
              "17107.0                 244  ...              1856.074123\n",
              "14680.0                 346  ...              1810.951675\n",
              "\n",
              "[15 rows x 8 columns]"
            ]
          },
          "metadata": {
            "tags": []
          },
          "execution_count": 144
        }
      ]
    },
    {
      "cell_type": "code",
      "metadata": {
        "id": "S6rXoLXERpO4",
        "colab": {
          "base_uri": "https://localhost:8080/"
        },
        "outputId": "554acf4a-d15f-4c94-f0a0-f6c486fddc9e"
      },
      "source": [
        "##############################################################\r\n",
        "# 4. BG-NBD ve GG modeli ile CLTV'nin hesaplanması.\r\n",
        "##############################################################\r\n",
        "# GÖREV 1\r\n",
        "##############################################################\r\n",
        "# - 2010-2011 UK müşterileri için 6 aylık CLTV prediction yapınız.\r\n",
        "# - Elde ettiğiniz sonuçları yorumlayıp üzerinde değerlendirme yapınız.\r\n",
        "# - Mantıksız ya da çok isabetli olduğunu düşündüğünüz sonuçları vurgulayınız.\r\n",
        "# - Dikkat! 6 aylık expected sales değil cltv prediction yapılmasını bekliyoruz.\r\n",
        "#   Yani direk bgnbd ve gamma modellerini kurarak devam ediniz ve\r\n",
        "# - cltv prediction için ay bölümüne 6 giriniz.\r\n",
        "\r\n",
        "cltv = ggf.customer_lifetime_value(bgf,\r\n",
        "                                   rfm['frequency'],\r\n",
        "                                   rfm['recency_weekly_p'],\r\n",
        "                                   rfm['T_weekly'],\r\n",
        "                                   rfm['monetary_avg'],\r\n",
        "                                   time=6,  # 6 aylık\r\n",
        "                                   freq=\"W\",  # T'nin frekans bilgisi.\r\n",
        "                                   discount_rate=0.01)\r\n",
        "\r\n",
        "cltv.head()\r\n"
      ],
      "execution_count": 145,
      "outputs": [
        {
          "output_type": "execute_result",
          "data": {
            "text/plain": [
              "Customer ID\n",
              "12747.0     1937.046140\n",
              "12748.0    12365.796180\n",
              "12749.0     3446.010436\n",
              "12820.0      631.939332\n",
              "12822.0     1612.096652\n",
              "Name: clv, dtype: float64"
            ]
          },
          "metadata": {
            "tags": []
          },
          "execution_count": 145
        }
      ]
    },
    {
      "cell_type": "code",
      "metadata": {
        "id": "NQS2K2vsR7JY",
        "colab": {
          "base_uri": "https://localhost:8080/"
        },
        "outputId": "254c4b2a-24d3-4c59-f7ae-1645eea898d1"
      },
      "source": [
        "cltv.shape"
      ],
      "execution_count": 146,
      "outputs": [
        {
          "output_type": "execute_result",
          "data": {
            "text/plain": [
              "(2570,)"
            ]
          },
          "metadata": {
            "tags": []
          },
          "execution_count": 146
        }
      ]
    },
    {
      "cell_type": "code",
      "metadata": {
        "id": "i-en0OzNR_Zb",
        "colab": {
          "base_uri": "https://localhost:8080/",
          "height": 1000
        },
        "outputId": "d870d970-fd79-4919-e2be-ff44edadc600"
      },
      "source": [
        "cltv = cltv.reset_index()\r\n",
        "cltv.sort_values(by=\"clv\", ascending=False).head(50)"
      ],
      "execution_count": 147,
      "outputs": [
        {
          "output_type": "execute_result",
          "data": {
            "text/html": [
              "<div>\n",
              "<style scoped>\n",
              "    .dataframe tbody tr th:only-of-type {\n",
              "        vertical-align: middle;\n",
              "    }\n",
              "\n",
              "    .dataframe tbody tr th {\n",
              "        vertical-align: top;\n",
              "    }\n",
              "\n",
              "    .dataframe thead th {\n",
              "        text-align: right;\n",
              "    }\n",
              "</style>\n",
              "<table border=\"1\" class=\"dataframe\">\n",
              "  <thead>\n",
              "    <tr style=\"text-align: right;\">\n",
              "      <th></th>\n",
              "      <th>Customer ID</th>\n",
              "      <th>clv</th>\n",
              "    </tr>\n",
              "  </thead>\n",
              "  <tbody>\n",
              "    <tr>\n",
              "      <th>2486</th>\n",
              "      <td>18102.0</td>\n",
              "      <td>85651.010467</td>\n",
              "    </tr>\n",
              "    <tr>\n",
              "      <th>589</th>\n",
              "      <td>14096.0</td>\n",
              "      <td>55650.646773</td>\n",
              "    </tr>\n",
              "    <tr>\n",
              "      <th>2184</th>\n",
              "      <td>17450.0</td>\n",
              "      <td>48533.310108</td>\n",
              "    </tr>\n",
              "    <tr>\n",
              "      <th>2213</th>\n",
              "      <td>17511.0</td>\n",
              "      <td>36797.006732</td>\n",
              "    </tr>\n",
              "    <tr>\n",
              "      <th>1804</th>\n",
              "      <td>16684.0</td>\n",
              "      <td>25083.025410</td>\n",
              "    </tr>\n",
              "    <tr>\n",
              "      <th>406</th>\n",
              "      <td>13694.0</td>\n",
              "      <td>25060.708710</td>\n",
              "    </tr>\n",
              "    <tr>\n",
              "      <th>587</th>\n",
              "      <td>14088.0</td>\n",
              "      <td>25010.059127</td>\n",
              "    </tr>\n",
              "    <tr>\n",
              "      <th>1173</th>\n",
              "      <td>15311.0</td>\n",
              "      <td>23591.389482</td>\n",
              "    </tr>\n",
              "    <tr>\n",
              "      <th>133</th>\n",
              "      <td>13089.0</td>\n",
              "      <td>22927.692955</td>\n",
              "    </tr>\n",
              "    <tr>\n",
              "      <th>1057</th>\n",
              "      <td>15061.0</td>\n",
              "      <td>21123.082064</td>\n",
              "    </tr>\n",
              "    <tr>\n",
              "      <th>1485</th>\n",
              "      <td>16000.0</td>\n",
              "      <td>21110.807639</td>\n",
              "    </tr>\n",
              "    <tr>\n",
              "      <th>692</th>\n",
              "      <td>14298.0</td>\n",
              "      <td>20839.631427</td>\n",
              "    </tr>\n",
              "    <tr>\n",
              "      <th>1378</th>\n",
              "      <td>15769.0</td>\n",
              "      <td>18526.063434</td>\n",
              "    </tr>\n",
              "    <tr>\n",
              "      <th>2499</th>\n",
              "      <td>18139.0</td>\n",
              "      <td>17817.891320</td>\n",
              "    </tr>\n",
              "    <tr>\n",
              "      <th>2377</th>\n",
              "      <td>17841.0</td>\n",
              "      <td>15717.336601</td>\n",
              "    </tr>\n",
              "    <tr>\n",
              "      <th>454</th>\n",
              "      <td>13798.0</td>\n",
              "      <td>14629.749448</td>\n",
              "    </tr>\n",
              "    <tr>\n",
              "      <th>2150</th>\n",
              "      <td>17389.0</td>\n",
              "      <td>14028.562003</td>\n",
              "    </tr>\n",
              "    <tr>\n",
              "      <th>2424</th>\n",
              "      <td>17949.0</td>\n",
              "      <td>13819.551666</td>\n",
              "    </tr>\n",
              "    <tr>\n",
              "      <th>1503</th>\n",
              "      <td>16029.0</td>\n",
              "      <td>13594.324944</td>\n",
              "    </tr>\n",
              "    <tr>\n",
              "      <th>139</th>\n",
              "      <td>13098.0</td>\n",
              "      <td>13449.723365</td>\n",
              "    </tr>\n",
              "    <tr>\n",
              "      <th>129</th>\n",
              "      <td>13081.0</td>\n",
              "      <td>12971.298734</td>\n",
              "    </tr>\n",
              "    <tr>\n",
              "      <th>1689</th>\n",
              "      <td>16422.0</td>\n",
              "      <td>12892.154414</td>\n",
              "    </tr>\n",
              "    <tr>\n",
              "      <th>1494</th>\n",
              "      <td>16013.0</td>\n",
              "      <td>12585.617939</td>\n",
              "    </tr>\n",
              "    <tr>\n",
              "      <th>1</th>\n",
              "      <td>12748.0</td>\n",
              "      <td>12365.796180</td>\n",
              "    </tr>\n",
              "    <tr>\n",
              "      <th>881</th>\n",
              "      <td>14680.0</td>\n",
              "      <td>12306.091223</td>\n",
              "    </tr>\n",
              "    <tr>\n",
              "      <th>1414</th>\n",
              "      <td>15838.0</td>\n",
              "      <td>12151.591391</td>\n",
              "    </tr>\n",
              "    <tr>\n",
              "      <th>58</th>\n",
              "      <td>12931.0</td>\n",
              "      <td>11887.555405</td>\n",
              "    </tr>\n",
              "    <tr>\n",
              "      <th>271</th>\n",
              "      <td>13408.0</td>\n",
              "      <td>11030.545748</td>\n",
              "    </tr>\n",
              "    <tr>\n",
              "      <th>447</th>\n",
              "      <td>13777.0</td>\n",
              "      <td>9818.429263</td>\n",
              "    </tr>\n",
              "    <tr>\n",
              "      <th>2296</th>\n",
              "      <td>17675.0</td>\n",
              "      <td>8391.761563</td>\n",
              "    </tr>\n",
              "    <tr>\n",
              "      <th>488</th>\n",
              "      <td>13881.0</td>\n",
              "      <td>8349.289879</td>\n",
              "    </tr>\n",
              "    <tr>\n",
              "      <th>2009</th>\n",
              "      <td>17084.0</td>\n",
              "      <td>8239.299964</td>\n",
              "    </tr>\n",
              "    <tr>\n",
              "      <th>843</th>\n",
              "      <td>14607.0</td>\n",
              "      <td>8234.015994</td>\n",
              "    </tr>\n",
              "    <tr>\n",
              "      <th>1044</th>\n",
              "      <td>15039.0</td>\n",
              "      <td>7882.280908</td>\n",
              "    </tr>\n",
              "    <tr>\n",
              "      <th>1604</th>\n",
              "      <td>16240.0</td>\n",
              "      <td>7880.680296</td>\n",
              "    </tr>\n",
              "    <tr>\n",
              "      <th>1082</th>\n",
              "      <td>15113.0</td>\n",
              "      <td>7775.110879</td>\n",
              "    </tr>\n",
              "    <tr>\n",
              "      <th>2384</th>\n",
              "      <td>17857.0</td>\n",
              "      <td>7656.040687</td>\n",
              "    </tr>\n",
              "    <tr>\n",
              "      <th>1106</th>\n",
              "      <td>15159.0</td>\n",
              "      <td>7638.768445</td>\n",
              "    </tr>\n",
              "    <tr>\n",
              "      <th>560</th>\n",
              "      <td>14031.0</td>\n",
              "      <td>7334.092265</td>\n",
              "    </tr>\n",
              "    <tr>\n",
              "      <th>2173</th>\n",
              "      <td>17428.0</td>\n",
              "      <td>7135.601927</td>\n",
              "    </tr>\n",
              "    <tr>\n",
              "      <th>1116</th>\n",
              "      <td>15189.0</td>\n",
              "      <td>7091.477204</td>\n",
              "    </tr>\n",
              "    <tr>\n",
              "      <th>1384</th>\n",
              "      <td>15786.0</td>\n",
              "      <td>7031.116039</td>\n",
              "    </tr>\n",
              "    <tr>\n",
              "      <th>2021</th>\n",
              "      <td>17107.0</td>\n",
              "      <td>7001.513169</td>\n",
              "    </tr>\n",
              "    <tr>\n",
              "      <th>443</th>\n",
              "      <td>13767.0</td>\n",
              "      <td>6892.025724</td>\n",
              "    </tr>\n",
              "    <tr>\n",
              "      <th>1424</th>\n",
              "      <td>15856.0</td>\n",
              "      <td>6841.453778</td>\n",
              "    </tr>\n",
              "    <tr>\n",
              "      <th>2298</th>\n",
              "      <td>17677.0</td>\n",
              "      <td>6740.680796</td>\n",
              "    </tr>\n",
              "    <tr>\n",
              "      <th>1886</th>\n",
              "      <td>16839.0</td>\n",
              "      <td>6740.540317</td>\n",
              "    </tr>\n",
              "    <tr>\n",
              "      <th>2145</th>\n",
              "      <td>17381.0</td>\n",
              "      <td>6693.810956</td>\n",
              "    </tr>\n",
              "    <tr>\n",
              "      <th>1149</th>\n",
              "      <td>15251.0</td>\n",
              "      <td>6678.209084</td>\n",
              "    </tr>\n",
              "    <tr>\n",
              "      <th>53</th>\n",
              "      <td>12921.0</td>\n",
              "      <td>6644.920386</td>\n",
              "    </tr>\n",
              "  </tbody>\n",
              "</table>\n",
              "</div>"
            ],
            "text/plain": [
              "      Customer ID           clv\n",
              "2486      18102.0  85651.010467\n",
              "589       14096.0  55650.646773\n",
              "2184      17450.0  48533.310108\n",
              "2213      17511.0  36797.006732\n",
              "1804      16684.0  25083.025410\n",
              "406       13694.0  25060.708710\n",
              "587       14088.0  25010.059127\n",
              "1173      15311.0  23591.389482\n",
              "133       13089.0  22927.692955\n",
              "1057      15061.0  21123.082064\n",
              "1485      16000.0  21110.807639\n",
              "692       14298.0  20839.631427\n",
              "1378      15769.0  18526.063434\n",
              "2499      18139.0  17817.891320\n",
              "2377      17841.0  15717.336601\n",
              "454       13798.0  14629.749448\n",
              "2150      17389.0  14028.562003\n",
              "2424      17949.0  13819.551666\n",
              "1503      16029.0  13594.324944\n",
              "139       13098.0  13449.723365\n",
              "129       13081.0  12971.298734\n",
              "1689      16422.0  12892.154414\n",
              "1494      16013.0  12585.617939\n",
              "1         12748.0  12365.796180\n",
              "881       14680.0  12306.091223\n",
              "1414      15838.0  12151.591391\n",
              "58        12931.0  11887.555405\n",
              "271       13408.0  11030.545748\n",
              "447       13777.0   9818.429263\n",
              "2296      17675.0   8391.761563\n",
              "488       13881.0   8349.289879\n",
              "2009      17084.0   8239.299964\n",
              "843       14607.0   8234.015994\n",
              "1044      15039.0   7882.280908\n",
              "1604      16240.0   7880.680296\n",
              "1082      15113.0   7775.110879\n",
              "2384      17857.0   7656.040687\n",
              "1106      15159.0   7638.768445\n",
              "560       14031.0   7334.092265\n",
              "2173      17428.0   7135.601927\n",
              "1116      15189.0   7091.477204\n",
              "1384      15786.0   7031.116039\n",
              "2021      17107.0   7001.513169\n",
              "443       13767.0   6892.025724\n",
              "1424      15856.0   6841.453778\n",
              "2298      17677.0   6740.680796\n",
              "1886      16839.0   6740.540317\n",
              "2145      17381.0   6693.810956\n",
              "1149      15251.0   6678.209084\n",
              "53        12921.0   6644.920386"
            ]
          },
          "metadata": {
            "tags": []
          },
          "execution_count": 147
        }
      ]
    },
    {
      "cell_type": "code",
      "metadata": {
        "id": "tntxEi4GSBKi",
        "colab": {
          "base_uri": "https://localhost:8080/",
          "height": 241
        },
        "outputId": "871efbd9-4058-40db-92d3-1743bb32a425"
      },
      "source": [
        "rfm_cltv_final = rfm.merge(cltv, on=\"Customer ID\", how=\"left\")\r\n",
        "rfm_cltv_final.head()"
      ],
      "execution_count": 148,
      "outputs": [
        {
          "output_type": "execute_result",
          "data": {
            "text/html": [
              "<div>\n",
              "<style scoped>\n",
              "    .dataframe tbody tr th:only-of-type {\n",
              "        vertical-align: middle;\n",
              "    }\n",
              "\n",
              "    .dataframe tbody tr th {\n",
              "        vertical-align: top;\n",
              "    }\n",
              "\n",
              "    .dataframe thead th {\n",
              "        text-align: right;\n",
              "    }\n",
              "</style>\n",
              "<table border=\"1\" class=\"dataframe\">\n",
              "  <thead>\n",
              "    <tr style=\"text-align: right;\">\n",
              "      <th></th>\n",
              "      <th>Customer ID</th>\n",
              "      <th>recency_cltv_p</th>\n",
              "      <th>T</th>\n",
              "      <th>frequency</th>\n",
              "      <th>monetary_avg</th>\n",
              "      <th>recency_weekly_p</th>\n",
              "      <th>T_weekly</th>\n",
              "      <th>expected_number_of_purchases</th>\n",
              "      <th>expected_average_profit</th>\n",
              "      <th>clv</th>\n",
              "    </tr>\n",
              "  </thead>\n",
              "  <tbody>\n",
              "    <tr>\n",
              "      <th>0</th>\n",
              "      <td>12747.0</td>\n",
              "      <td>366</td>\n",
              "      <td>370</td>\n",
              "      <td>11</td>\n",
              "      <td>381.455455</td>\n",
              "      <td>52.285714</td>\n",
              "      <td>52.857143</td>\n",
              "      <td>0.202479</td>\n",
              "      <td>387.822846</td>\n",
              "      <td>1937.046140</td>\n",
              "    </tr>\n",
              "    <tr>\n",
              "      <th>1</th>\n",
              "      <td>12748.0</td>\n",
              "      <td>372</td>\n",
              "      <td>374</td>\n",
              "      <td>210</td>\n",
              "      <td>153.828143</td>\n",
              "      <td>53.142857</td>\n",
              "      <td>53.428571</td>\n",
              "      <td>3.252952</td>\n",
              "      <td>153.971325</td>\n",
              "      <td>12365.796180</td>\n",
              "    </tr>\n",
              "    <tr>\n",
              "      <th>2</th>\n",
              "      <td>12749.0</td>\n",
              "      <td>209</td>\n",
              "      <td>214</td>\n",
              "      <td>5</td>\n",
              "      <td>814.488000</td>\n",
              "      <td>29.857143</td>\n",
              "      <td>30.571429</td>\n",
              "      <td>0.167149</td>\n",
              "      <td>844.094697</td>\n",
              "      <td>3446.010436</td>\n",
              "    </tr>\n",
              "    <tr>\n",
              "      <th>3</th>\n",
              "      <td>12820.0</td>\n",
              "      <td>323</td>\n",
              "      <td>327</td>\n",
              "      <td>4</td>\n",
              "      <td>235.585000</td>\n",
              "      <td>46.142857</td>\n",
              "      <td>46.714286</td>\n",
              "      <td>0.103972</td>\n",
              "      <td>247.080949</td>\n",
              "      <td>631.939332</td>\n",
              "    </tr>\n",
              "    <tr>\n",
              "      <th>4</th>\n",
              "      <td>12822.0</td>\n",
              "      <td>16</td>\n",
              "      <td>88</td>\n",
              "      <td>2</td>\n",
              "      <td>474.440000</td>\n",
              "      <td>2.285714</td>\n",
              "      <td>12.571429</td>\n",
              "      <td>0.129141</td>\n",
              "      <td>520.828195</td>\n",
              "      <td>1612.096652</td>\n",
              "    </tr>\n",
              "  </tbody>\n",
              "</table>\n",
              "</div>"
            ],
            "text/plain": [
              "   Customer ID  recency_cltv_p  ...  expected_average_profit           clv\n",
              "0      12747.0             366  ...               387.822846   1937.046140\n",
              "1      12748.0             372  ...               153.971325  12365.796180\n",
              "2      12749.0             209  ...               844.094697   3446.010436\n",
              "3      12820.0             323  ...               247.080949    631.939332\n",
              "4      12822.0              16  ...               520.828195   1612.096652\n",
              "\n",
              "[5 rows x 10 columns]"
            ]
          },
          "metadata": {
            "tags": []
          },
          "execution_count": 148
        }
      ]
    },
    {
      "cell_type": "code",
      "metadata": {
        "id": "zCtVmpTQz22i"
      },
      "source": [
        "\r\n",
        "##############################################################\r\n",
        "# GÖREV 3\r\n",
        "##############################################################\r\n",
        "# 2010-2011 UK müşterileri için 6 aylık CLTV'ye göre tüm müşterilerinizi 3 gruba (segmente) ayırınız ve\r\n",
        "# grup isimlerini veri setine ekleyiniz. Örneğin (C, B, A)\r\n",
        "# CLTV'ye göre en iyi yüzde 20'yi seçiniz. Ve bunlara top_flag yazınız. yüzde 20'ye 1.\r\n",
        "# diğerlerine 0 yazınız.\r\n",
        "\r\n",
        "# 3 grubu veri setindeki diğer değişkenler açısıdan analiz ediniz.\r\n",
        "# 3 grup için yönetime 6 aylık aksiyon önerilerinde bulununuz. Kısa kısa."
      ],
      "execution_count": 149,
      "outputs": []
    },
    {
      "cell_type": "code",
      "metadata": {
        "colab": {
          "base_uri": "https://localhost:8080/",
          "height": 241
        },
        "id": "zy4L5aeblt5h",
        "outputId": "af661712-e973-4e13-c859-cc80a9661fe2"
      },
      "source": [
        "rfm_cltv_final[\"segment\"] = pd.qcut(rfm_cltv_final[\"clv\"], 3, labels=[\"C\", \"B\", \"A\"])\r\n",
        "rfm_cltv_final = rfm_cltv_final.sort_values(by=\"clv\", ascending=False)\r\n",
        "rfm_cltv_final=rfm_cltv_final.reset_index()\r\n",
        "rfm_cltv_final.head()"
      ],
      "execution_count": 150,
      "outputs": [
        {
          "output_type": "execute_result",
          "data": {
            "text/html": [
              "<div>\n",
              "<style scoped>\n",
              "    .dataframe tbody tr th:only-of-type {\n",
              "        vertical-align: middle;\n",
              "    }\n",
              "\n",
              "    .dataframe tbody tr th {\n",
              "        vertical-align: top;\n",
              "    }\n",
              "\n",
              "    .dataframe thead th {\n",
              "        text-align: right;\n",
              "    }\n",
              "</style>\n",
              "<table border=\"1\" class=\"dataframe\">\n",
              "  <thead>\n",
              "    <tr style=\"text-align: right;\">\n",
              "      <th></th>\n",
              "      <th>index</th>\n",
              "      <th>Customer ID</th>\n",
              "      <th>recency_cltv_p</th>\n",
              "      <th>T</th>\n",
              "      <th>frequency</th>\n",
              "      <th>monetary_avg</th>\n",
              "      <th>recency_weekly_p</th>\n",
              "      <th>T_weekly</th>\n",
              "      <th>expected_number_of_purchases</th>\n",
              "      <th>expected_average_profit</th>\n",
              "      <th>clv</th>\n",
              "      <th>segment</th>\n",
              "    </tr>\n",
              "  </thead>\n",
              "  <tbody>\n",
              "    <tr>\n",
              "      <th>0</th>\n",
              "      <td>2486</td>\n",
              "      <td>18102.0</td>\n",
              "      <td>366</td>\n",
              "      <td>368</td>\n",
              "      <td>60</td>\n",
              "      <td>3584.887750</td>\n",
              "      <td>52.285714</td>\n",
              "      <td>52.571429</td>\n",
              "      <td>0.965291</td>\n",
              "      <td>3595.192557</td>\n",
              "      <td>85651.010467</td>\n",
              "      <td>A</td>\n",
              "    </tr>\n",
              "    <tr>\n",
              "      <th>1</th>\n",
              "      <td>589</td>\n",
              "      <td>14096.0</td>\n",
              "      <td>97</td>\n",
              "      <td>102</td>\n",
              "      <td>17</td>\n",
              "      <td>3159.077059</td>\n",
              "      <td>13.857143</td>\n",
              "      <td>14.571429</td>\n",
              "      <td>0.723053</td>\n",
              "      <td>3191.386734</td>\n",
              "      <td>55650.646773</td>\n",
              "      <td>A</td>\n",
              "    </tr>\n",
              "    <tr>\n",
              "      <th>2</th>\n",
              "      <td>2184</td>\n",
              "      <td>17450.0</td>\n",
              "      <td>359</td>\n",
              "      <td>368</td>\n",
              "      <td>46</td>\n",
              "      <td>2629.529891</td>\n",
              "      <td>51.285714</td>\n",
              "      <td>52.571429</td>\n",
              "      <td>0.745075</td>\n",
              "      <td>2639.419342</td>\n",
              "      <td>48533.310108</td>\n",
              "      <td>A</td>\n",
              "    </tr>\n",
              "    <tr>\n",
              "      <th>3</th>\n",
              "      <td>2213</td>\n",
              "      <td>17511.0</td>\n",
              "      <td>370</td>\n",
              "      <td>374</td>\n",
              "      <td>31</td>\n",
              "      <td>2921.951935</td>\n",
              "      <td>52.857143</td>\n",
              "      <td>53.428571</td>\n",
              "      <td>0.507374</td>\n",
              "      <td>2938.274487</td>\n",
              "      <td>36797.006732</td>\n",
              "      <td>A</td>\n",
              "    </tr>\n",
              "    <tr>\n",
              "      <th>4</th>\n",
              "      <td>1804</td>\n",
              "      <td>16684.0</td>\n",
              "      <td>353</td>\n",
              "      <td>359</td>\n",
              "      <td>28</td>\n",
              "      <td>2120.046964</td>\n",
              "      <td>50.428571</td>\n",
              "      <td>51.285714</td>\n",
              "      <td>0.476683</td>\n",
              "      <td>2133.203588</td>\n",
              "      <td>25083.025410</td>\n",
              "      <td>A</td>\n",
              "    </tr>\n",
              "  </tbody>\n",
              "</table>\n",
              "</div>"
            ],
            "text/plain": [
              "   index  Customer ID  ...           clv  segment\n",
              "0   2486      18102.0  ...  85651.010467        A\n",
              "1    589      14096.0  ...  55650.646773        A\n",
              "2   2184      17450.0  ...  48533.310108        A\n",
              "3   2213      17511.0  ...  36797.006732        A\n",
              "4   1804      16684.0  ...  25083.025410        A\n",
              "\n",
              "[5 rows x 12 columns]"
            ]
          },
          "metadata": {
            "tags": []
          },
          "execution_count": 150
        }
      ]
    },
    {
      "cell_type": "code",
      "metadata": {
        "colab": {
          "base_uri": "https://localhost:8080/"
        },
        "id": "J7wXKXnjm684",
        "outputId": "560254fe-96ce-467f-d7d9-868b791beb81"
      },
      "source": [
        "rfm_cltv_final[\"segment\"].value_counts()"
      ],
      "execution_count": 151,
      "outputs": [
        {
          "output_type": "execute_result",
          "data": {
            "text/plain": [
              "A    857\n",
              "C    857\n",
              "B    856\n",
              "Name: segment, dtype: int64"
            ]
          },
          "metadata": {
            "tags": []
          },
          "execution_count": 151
        }
      ]
    },
    {
      "cell_type": "code",
      "metadata": {
        "colab": {
          "base_uri": "https://localhost:8080/"
        },
        "id": "3-NaD4svrf5L",
        "outputId": "c593eb8a-f970-4f2e-f279-28e03b80bbb3"
      },
      "source": [
        "len(rfm_cltv_final)\r\n"
      ],
      "execution_count": 152,
      "outputs": [
        {
          "output_type": "execute_result",
          "data": {
            "text/plain": [
              "2570"
            ]
          },
          "metadata": {
            "tags": []
          },
          "execution_count": 152
        }
      ]
    },
    {
      "cell_type": "code",
      "metadata": {
        "colab": {
          "base_uri": "https://localhost:8080/"
        },
        "id": "MuikbxjfryRm",
        "outputId": "cc061fb2-a57e-44bd-b5fb-45a51c4ad9ee"
      },
      "source": [
        "(rfm_cltv_final.shape[0] *0.20)"
      ],
      "execution_count": 153,
      "outputs": [
        {
          "output_type": "execute_result",
          "data": {
            "text/plain": [
              "514.0"
            ]
          },
          "metadata": {
            "tags": []
          },
          "execution_count": 153
        }
      ]
    },
    {
      "cell_type": "code",
      "metadata": {
        "id": "4sXG-EfFvmci"
      },
      "source": [
        "rfm_cltv_final[\"top_flag\"] = 0\r\n",
        "rfm_cltv_final[\"top_flag\"].iloc[0:515] = 1"
      ],
      "execution_count": 154,
      "outputs": []
    },
    {
      "cell_type": "code",
      "metadata": {
        "id": "5bRE-hDU4G7n"
      },
      "source": [
        "##############################################################\r\n",
        "# GÖREV 2\r\n",
        "##############################################################\r\n",
        "# - 2010-2011 UK müşterileri için 1 aylık ve 12 aylık CLTV hesaplayınız.\r\n",
        "# - 1 aylık CLTV'de en yüksek olan 10 kişi ile 12 aylık'taki en yüksek 10 kişiyi analiz ediniz.\r\n",
        "# - Fark var mı? Varsa sizce neden olabilir?\r\n",
        "# Dikkat! Sıfırdan model kurulmasına gerek yoktur.\r\n",
        "# Var olan bgf ve ggf üzerinden direk cltv hesaplanabilir.\r\n"
      ],
      "execution_count": 155,
      "outputs": []
    },
    {
      "cell_type": "code",
      "metadata": {
        "colab": {
          "base_uri": "https://localhost:8080/"
        },
        "id": "dCX7VrCp0sws",
        "outputId": "5f152fac-0d3c-4671-bfa0-7623daa7c9f5"
      },
      "source": [
        "cltv_1 = ggf.customer_lifetime_value(bgf,\r\n",
        "                                   rfm['frequency'],\r\n",
        "                                   rfm['recency_weekly_p'],\r\n",
        "                                   rfm['T_weekly'],\r\n",
        "                                   rfm['monetary_avg'],\r\n",
        "                                   time=1,  # 1 aylık\r\n",
        "                                   freq=\"W\",  # T'nin frekans bilgisi.\r\n",
        "                                   discount_rate=0.01)\r\n",
        "\r\n",
        "cltv_1.head()"
      ],
      "execution_count": 156,
      "outputs": [
        {
          "output_type": "execute_result",
          "data": {
            "text/plain": [
              "Customer ID\n",
              "12747.0     336.778826\n",
              "12748.0    2148.375671\n",
              "12749.0     604.071001\n",
              "12820.0     110.124851\n",
              "12822.0     286.922336\n",
              "Name: clv, dtype: float64"
            ]
          },
          "metadata": {
            "tags": []
          },
          "execution_count": 156
        }
      ]
    },
    {
      "cell_type": "code",
      "metadata": {
        "colab": {
          "base_uri": "https://localhost:8080/",
          "height": 359
        },
        "id": "Kad8WfqW10YF",
        "outputId": "c1c0621f-e763-4b17-a402-40e2bce14e0b"
      },
      "source": [
        "cltv_1 = cltv_1.reset_index()\r\n",
        "cltv_1.sort_values(by=\"clv\", ascending=False).head(10)"
      ],
      "execution_count": 157,
      "outputs": [
        {
          "output_type": "execute_result",
          "data": {
            "text/html": [
              "<div>\n",
              "<style scoped>\n",
              "    .dataframe tbody tr th:only-of-type {\n",
              "        vertical-align: middle;\n",
              "    }\n",
              "\n",
              "    .dataframe tbody tr th {\n",
              "        vertical-align: top;\n",
              "    }\n",
              "\n",
              "    .dataframe thead th {\n",
              "        text-align: right;\n",
              "    }\n",
              "</style>\n",
              "<table border=\"1\" class=\"dataframe\">\n",
              "  <thead>\n",
              "    <tr style=\"text-align: right;\">\n",
              "      <th></th>\n",
              "      <th>Customer ID</th>\n",
              "      <th>clv</th>\n",
              "    </tr>\n",
              "  </thead>\n",
              "  <tbody>\n",
              "    <tr>\n",
              "      <th>2486</th>\n",
              "      <td>18102.0</td>\n",
              "      <td>14884.974999</td>\n",
              "    </tr>\n",
              "    <tr>\n",
              "      <th>589</th>\n",
              "      <td>14096.0</td>\n",
              "      <td>9855.879890</td>\n",
              "    </tr>\n",
              "    <tr>\n",
              "      <th>2184</th>\n",
              "      <td>17450.0</td>\n",
              "      <td>8434.764722</td>\n",
              "    </tr>\n",
              "    <tr>\n",
              "      <th>2213</th>\n",
              "      <td>17511.0</td>\n",
              "      <td>6394.324321</td>\n",
              "    </tr>\n",
              "    <tr>\n",
              "      <th>1804</th>\n",
              "      <td>16684.0</td>\n",
              "      <td>4361.053957</td>\n",
              "    </tr>\n",
              "    <tr>\n",
              "      <th>587</th>\n",
              "      <td>14088.0</td>\n",
              "      <td>4355.485259</td>\n",
              "    </tr>\n",
              "    <tr>\n",
              "      <th>406</th>\n",
              "      <td>13694.0</td>\n",
              "      <td>4354.468531</td>\n",
              "    </tr>\n",
              "    <tr>\n",
              "      <th>1173</th>\n",
              "      <td>15311.0</td>\n",
              "      <td>4098.869447</td>\n",
              "    </tr>\n",
              "    <tr>\n",
              "      <th>133</th>\n",
              "      <td>13089.0</td>\n",
              "      <td>3984.051505</td>\n",
              "    </tr>\n",
              "    <tr>\n",
              "      <th>1485</th>\n",
              "      <td>16000.0</td>\n",
              "      <td>3843.979499</td>\n",
              "    </tr>\n",
              "  </tbody>\n",
              "</table>\n",
              "</div>"
            ],
            "text/plain": [
              "      Customer ID           clv\n",
              "2486      18102.0  14884.974999\n",
              "589       14096.0   9855.879890\n",
              "2184      17450.0   8434.764722\n",
              "2213      17511.0   6394.324321\n",
              "1804      16684.0   4361.053957\n",
              "587       14088.0   4355.485259\n",
              "406       13694.0   4354.468531\n",
              "1173      15311.0   4098.869447\n",
              "133       13089.0   3984.051505\n",
              "1485      16000.0   3843.979499"
            ]
          },
          "metadata": {
            "tags": []
          },
          "execution_count": 157
        }
      ]
    },
    {
      "cell_type": "code",
      "metadata": {
        "colab": {
          "base_uri": "https://localhost:8080/",
          "height": 241
        },
        "id": "SNr3HYdw2Pk4",
        "outputId": "5f2f6f55-5b71-430a-abd8-3ea1937405e8"
      },
      "source": [
        "rfm_cltv_final_1 = rfm.merge(cltv_1, on=\"Customer ID\", how=\"left\")\r\n",
        "rfm_cltv_final_1.head()"
      ],
      "execution_count": 158,
      "outputs": [
        {
          "output_type": "execute_result",
          "data": {
            "text/html": [
              "<div>\n",
              "<style scoped>\n",
              "    .dataframe tbody tr th:only-of-type {\n",
              "        vertical-align: middle;\n",
              "    }\n",
              "\n",
              "    .dataframe tbody tr th {\n",
              "        vertical-align: top;\n",
              "    }\n",
              "\n",
              "    .dataframe thead th {\n",
              "        text-align: right;\n",
              "    }\n",
              "</style>\n",
              "<table border=\"1\" class=\"dataframe\">\n",
              "  <thead>\n",
              "    <tr style=\"text-align: right;\">\n",
              "      <th></th>\n",
              "      <th>Customer ID</th>\n",
              "      <th>recency_cltv_p</th>\n",
              "      <th>T</th>\n",
              "      <th>frequency</th>\n",
              "      <th>monetary_avg</th>\n",
              "      <th>recency_weekly_p</th>\n",
              "      <th>T_weekly</th>\n",
              "      <th>expected_number_of_purchases</th>\n",
              "      <th>expected_average_profit</th>\n",
              "      <th>clv</th>\n",
              "    </tr>\n",
              "  </thead>\n",
              "  <tbody>\n",
              "    <tr>\n",
              "      <th>0</th>\n",
              "      <td>12747.0</td>\n",
              "      <td>366</td>\n",
              "      <td>370</td>\n",
              "      <td>11</td>\n",
              "      <td>381.455455</td>\n",
              "      <td>52.285714</td>\n",
              "      <td>52.857143</td>\n",
              "      <td>0.202479</td>\n",
              "      <td>387.822846</td>\n",
              "      <td>336.778826</td>\n",
              "    </tr>\n",
              "    <tr>\n",
              "      <th>1</th>\n",
              "      <td>12748.0</td>\n",
              "      <td>372</td>\n",
              "      <td>374</td>\n",
              "      <td>210</td>\n",
              "      <td>153.828143</td>\n",
              "      <td>53.142857</td>\n",
              "      <td>53.428571</td>\n",
              "      <td>3.252952</td>\n",
              "      <td>153.971325</td>\n",
              "      <td>2148.375671</td>\n",
              "    </tr>\n",
              "    <tr>\n",
              "      <th>2</th>\n",
              "      <td>12749.0</td>\n",
              "      <td>209</td>\n",
              "      <td>214</td>\n",
              "      <td>5</td>\n",
              "      <td>814.488000</td>\n",
              "      <td>29.857143</td>\n",
              "      <td>30.571429</td>\n",
              "      <td>0.167149</td>\n",
              "      <td>844.094697</td>\n",
              "      <td>604.071001</td>\n",
              "    </tr>\n",
              "    <tr>\n",
              "      <th>3</th>\n",
              "      <td>12820.0</td>\n",
              "      <td>323</td>\n",
              "      <td>327</td>\n",
              "      <td>4</td>\n",
              "      <td>235.585000</td>\n",
              "      <td>46.142857</td>\n",
              "      <td>46.714286</td>\n",
              "      <td>0.103972</td>\n",
              "      <td>247.080949</td>\n",
              "      <td>110.124851</td>\n",
              "    </tr>\n",
              "    <tr>\n",
              "      <th>4</th>\n",
              "      <td>12822.0</td>\n",
              "      <td>16</td>\n",
              "      <td>88</td>\n",
              "      <td>2</td>\n",
              "      <td>474.440000</td>\n",
              "      <td>2.285714</td>\n",
              "      <td>12.571429</td>\n",
              "      <td>0.129141</td>\n",
              "      <td>520.828195</td>\n",
              "      <td>286.922336</td>\n",
              "    </tr>\n",
              "  </tbody>\n",
              "</table>\n",
              "</div>"
            ],
            "text/plain": [
              "   Customer ID  recency_cltv_p  ...  expected_average_profit          clv\n",
              "0      12747.0             366  ...               387.822846   336.778826\n",
              "1      12748.0             372  ...               153.971325  2148.375671\n",
              "2      12749.0             209  ...               844.094697   604.071001\n",
              "3      12820.0             323  ...               247.080949   110.124851\n",
              "4      12822.0              16  ...               520.828195   286.922336\n",
              "\n",
              "[5 rows x 10 columns]"
            ]
          },
          "metadata": {
            "tags": []
          },
          "execution_count": 158
        }
      ]
    },
    {
      "cell_type": "code",
      "metadata": {
        "colab": {
          "base_uri": "https://localhost:8080/"
        },
        "id": "3xIWxHMe2riR",
        "outputId": "924f26d1-947c-4546-eacc-8f4fcf5f1696"
      },
      "source": [
        "cltv_12 = ggf.customer_lifetime_value(bgf,\r\n",
        "                                   rfm['frequency'],\r\n",
        "                                   rfm['recency_weekly_p'],\r\n",
        "                                   rfm['T_weekly'],\r\n",
        "                                   rfm['monetary_avg'],\r\n",
        "                                   time=12,  # 12 aylık\r\n",
        "                                   freq=\"W\",  # T'nin frekans bilgisi.\r\n",
        "                                   discount_rate=0.01)\r\n",
        "\r\n",
        "cltv_12.head()"
      ],
      "execution_count": 162,
      "outputs": [
        {
          "output_type": "execute_result",
          "data": {
            "text/plain": [
              "Customer ID\n",
              "12747.0     3698.381136\n",
              "12748.0    23623.996889\n",
              "12749.0     6538.827675\n",
              "12820.0     1204.326224\n",
              "12822.0     3029.794538\n",
              "Name: clv, dtype: float64"
            ]
          },
          "metadata": {
            "tags": []
          },
          "execution_count": 162
        }
      ]
    },
    {
      "cell_type": "code",
      "metadata": {
        "colab": {
          "base_uri": "https://localhost:8080/",
          "height": 669
        },
        "id": "gxsw9w9m2ygD",
        "outputId": "8ca2aacf-46df-4a53-ed95-9c09cc28b8bc"
      },
      "source": [
        "cltv_12 = cltv_12.reset_index()\r\n",
        "cltv_12.sort_values(by=\"clv\", ascending=False).head(20)"
      ],
      "execution_count": 163,
      "outputs": [
        {
          "output_type": "execute_result",
          "data": {
            "text/html": [
              "<div>\n",
              "<style scoped>\n",
              "    .dataframe tbody tr th:only-of-type {\n",
              "        vertical-align: middle;\n",
              "    }\n",
              "\n",
              "    .dataframe tbody tr th {\n",
              "        vertical-align: top;\n",
              "    }\n",
              "\n",
              "    .dataframe thead th {\n",
              "        text-align: right;\n",
              "    }\n",
              "</style>\n",
              "<table border=\"1\" class=\"dataframe\">\n",
              "  <thead>\n",
              "    <tr style=\"text-align: right;\">\n",
              "      <th></th>\n",
              "      <th>Customer ID</th>\n",
              "      <th>clv</th>\n",
              "    </tr>\n",
              "  </thead>\n",
              "  <tbody>\n",
              "    <tr>\n",
              "      <th>2486</th>\n",
              "      <td>18102.0</td>\n",
              "      <td>163591.126764</td>\n",
              "    </tr>\n",
              "    <tr>\n",
              "      <th>589</th>\n",
              "      <td>14096.0</td>\n",
              "      <td>104900.442916</td>\n",
              "    </tr>\n",
              "    <tr>\n",
              "      <th>2184</th>\n",
              "      <td>17450.0</td>\n",
              "      <td>92694.274819</td>\n",
              "    </tr>\n",
              "    <tr>\n",
              "      <th>2213</th>\n",
              "      <td>17511.0</td>\n",
              "      <td>70285.652300</td>\n",
              "    </tr>\n",
              "    <tr>\n",
              "      <th>1804</th>\n",
              "      <td>16684.0</td>\n",
              "      <td>47890.364207</td>\n",
              "    </tr>\n",
              "    <tr>\n",
              "      <th>406</th>\n",
              "      <td>13694.0</td>\n",
              "      <td>47871.899999</td>\n",
              "    </tr>\n",
              "    <tr>\n",
              "      <th>587</th>\n",
              "      <td>14088.0</td>\n",
              "      <td>47688.863650</td>\n",
              "    </tr>\n",
              "    <tr>\n",
              "      <th>1173</th>\n",
              "      <td>15311.0</td>\n",
              "      <td>45067.809393</td>\n",
              "    </tr>\n",
              "    <tr>\n",
              "      <th>133</th>\n",
              "      <td>13089.0</td>\n",
              "      <td>43795.472864</td>\n",
              "    </tr>\n",
              "    <tr>\n",
              "      <th>1057</th>\n",
              "      <td>15061.0</td>\n",
              "      <td>40348.816688</td>\n",
              "    </tr>\n",
              "    <tr>\n",
              "      <th>692</th>\n",
              "      <td>14298.0</td>\n",
              "      <td>39793.985923</td>\n",
              "    </tr>\n",
              "    <tr>\n",
              "      <th>1485</th>\n",
              "      <td>16000.0</td>\n",
              "      <td>39238.249756</td>\n",
              "    </tr>\n",
              "    <tr>\n",
              "      <th>1378</th>\n",
              "      <td>15769.0</td>\n",
              "      <td>35383.286064</td>\n",
              "    </tr>\n",
              "    <tr>\n",
              "      <th>2499</th>\n",
              "      <td>18139.0</td>\n",
              "      <td>33232.956449</td>\n",
              "    </tr>\n",
              "    <tr>\n",
              "      <th>2377</th>\n",
              "      <td>17841.0</td>\n",
              "      <td>30026.204449</td>\n",
              "    </tr>\n",
              "    <tr>\n",
              "      <th>454</th>\n",
              "      <td>13798.0</td>\n",
              "      <td>27945.996447</td>\n",
              "    </tr>\n",
              "    <tr>\n",
              "      <th>2150</th>\n",
              "      <td>17389.0</td>\n",
              "      <td>26764.358185</td>\n",
              "    </tr>\n",
              "    <tr>\n",
              "      <th>2424</th>\n",
              "      <td>17949.0</td>\n",
              "      <td>26396.849905</td>\n",
              "    </tr>\n",
              "    <tr>\n",
              "      <th>1503</th>\n",
              "      <td>16029.0</td>\n",
              "      <td>25969.079467</td>\n",
              "    </tr>\n",
              "    <tr>\n",
              "      <th>139</th>\n",
              "      <td>13098.0</td>\n",
              "      <td>25647.761743</td>\n",
              "    </tr>\n",
              "  </tbody>\n",
              "</table>\n",
              "</div>"
            ],
            "text/plain": [
              "      Customer ID            clv\n",
              "2486      18102.0  163591.126764\n",
              "589       14096.0  104900.442916\n",
              "2184      17450.0   92694.274819\n",
              "2213      17511.0   70285.652300\n",
              "1804      16684.0   47890.364207\n",
              "406       13694.0   47871.899999\n",
              "587       14088.0   47688.863650\n",
              "1173      15311.0   45067.809393\n",
              "133       13089.0   43795.472864\n",
              "1057      15061.0   40348.816688\n",
              "692       14298.0   39793.985923\n",
              "1485      16000.0   39238.249756\n",
              "1378      15769.0   35383.286064\n",
              "2499      18139.0   33232.956449\n",
              "2377      17841.0   30026.204449\n",
              "454       13798.0   27945.996447\n",
              "2150      17389.0   26764.358185\n",
              "2424      17949.0   26396.849905\n",
              "1503      16029.0   25969.079467\n",
              "139       13098.0   25647.761743"
            ]
          },
          "metadata": {
            "tags": []
          },
          "execution_count": 163
        }
      ]
    },
    {
      "cell_type": "code",
      "metadata": {
        "colab": {
          "base_uri": "https://localhost:8080/",
          "height": 241
        },
        "id": "Lpdn3DOG22Rh",
        "outputId": "d1dcfc70-6b9c-48be-f78f-d446add17f46"
      },
      "source": [
        "rfm_cltv_final_12 = rfm.merge(cltv_12, on=\"Customer ID\", how=\"left\")\r\n",
        "rfm_cltv_final_12.head()"
      ],
      "execution_count": 164,
      "outputs": [
        {
          "output_type": "execute_result",
          "data": {
            "text/html": [
              "<div>\n",
              "<style scoped>\n",
              "    .dataframe tbody tr th:only-of-type {\n",
              "        vertical-align: middle;\n",
              "    }\n",
              "\n",
              "    .dataframe tbody tr th {\n",
              "        vertical-align: top;\n",
              "    }\n",
              "\n",
              "    .dataframe thead th {\n",
              "        text-align: right;\n",
              "    }\n",
              "</style>\n",
              "<table border=\"1\" class=\"dataframe\">\n",
              "  <thead>\n",
              "    <tr style=\"text-align: right;\">\n",
              "      <th></th>\n",
              "      <th>Customer ID</th>\n",
              "      <th>recency_cltv_p</th>\n",
              "      <th>T</th>\n",
              "      <th>frequency</th>\n",
              "      <th>monetary_avg</th>\n",
              "      <th>recency_weekly_p</th>\n",
              "      <th>T_weekly</th>\n",
              "      <th>expected_number_of_purchases</th>\n",
              "      <th>expected_average_profit</th>\n",
              "      <th>clv</th>\n",
              "    </tr>\n",
              "  </thead>\n",
              "  <tbody>\n",
              "    <tr>\n",
              "      <th>0</th>\n",
              "      <td>12747.0</td>\n",
              "      <td>366</td>\n",
              "      <td>370</td>\n",
              "      <td>11</td>\n",
              "      <td>381.455455</td>\n",
              "      <td>52.285714</td>\n",
              "      <td>52.857143</td>\n",
              "      <td>0.202479</td>\n",
              "      <td>387.822846</td>\n",
              "      <td>3698.381136</td>\n",
              "    </tr>\n",
              "    <tr>\n",
              "      <th>1</th>\n",
              "      <td>12748.0</td>\n",
              "      <td>372</td>\n",
              "      <td>374</td>\n",
              "      <td>210</td>\n",
              "      <td>153.828143</td>\n",
              "      <td>53.142857</td>\n",
              "      <td>53.428571</td>\n",
              "      <td>3.252952</td>\n",
              "      <td>153.971325</td>\n",
              "      <td>23623.996889</td>\n",
              "    </tr>\n",
              "    <tr>\n",
              "      <th>2</th>\n",
              "      <td>12749.0</td>\n",
              "      <td>209</td>\n",
              "      <td>214</td>\n",
              "      <td>5</td>\n",
              "      <td>814.488000</td>\n",
              "      <td>29.857143</td>\n",
              "      <td>30.571429</td>\n",
              "      <td>0.167149</td>\n",
              "      <td>844.094697</td>\n",
              "      <td>6538.827675</td>\n",
              "    </tr>\n",
              "    <tr>\n",
              "      <th>3</th>\n",
              "      <td>12820.0</td>\n",
              "      <td>323</td>\n",
              "      <td>327</td>\n",
              "      <td>4</td>\n",
              "      <td>235.585000</td>\n",
              "      <td>46.142857</td>\n",
              "      <td>46.714286</td>\n",
              "      <td>0.103972</td>\n",
              "      <td>247.080949</td>\n",
              "      <td>1204.326224</td>\n",
              "    </tr>\n",
              "    <tr>\n",
              "      <th>4</th>\n",
              "      <td>12822.0</td>\n",
              "      <td>16</td>\n",
              "      <td>88</td>\n",
              "      <td>2</td>\n",
              "      <td>474.440000</td>\n",
              "      <td>2.285714</td>\n",
              "      <td>12.571429</td>\n",
              "      <td>0.129141</td>\n",
              "      <td>520.828195</td>\n",
              "      <td>3029.794538</td>\n",
              "    </tr>\n",
              "  </tbody>\n",
              "</table>\n",
              "</div>"
            ],
            "text/plain": [
              "   Customer ID  recency_cltv_p  ...  expected_average_profit           clv\n",
              "0      12747.0             366  ...               387.822846   3698.381136\n",
              "1      12748.0             372  ...               153.971325  23623.996889\n",
              "2      12749.0             209  ...               844.094697   6538.827675\n",
              "3      12820.0             323  ...               247.080949   1204.326224\n",
              "4      12822.0              16  ...               520.828195   3029.794538\n",
              "\n",
              "[5 rows x 10 columns]"
            ]
          },
          "metadata": {
            "tags": []
          },
          "execution_count": 164
        }
      ]
    }
  ]
}